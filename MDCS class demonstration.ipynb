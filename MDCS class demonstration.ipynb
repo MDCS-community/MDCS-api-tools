{
 "cells": [
  {
   "cell_type": "markdown",
   "metadata": {},
   "source": [
    "# Python MDCS Class\n",
    "\n",
    "This notebook is designed to demonstrate the simple functionality of the Python mdcs.MDCS class."
   ]
  },
  {
   "cell_type": "markdown",
   "metadata": {},
   "source": [
    "## Library Imports"
   ]
  },
  {
   "cell_type": "code",
   "execution_count": 1,
   "metadata": {
    "collapsed": false
   },
   "outputs": [],
   "source": [
    "import os\n",
    "import time\n",
    "\n",
    "#This imports the mdcs-api Python tools\n",
    "import mdcs"
   ]
  },
  {
   "cell_type": "markdown",
   "metadata": {},
   "source": [
    "## Initialize MDCS Link"
   ]
  },
  {
   "cell_type": "markdown",
   "metadata": {},
   "source": [
    "Interacting with a curator requires certain access information.  The MDCS class helps with this by allowing this information to be defined once, and does a quick check that the information is valid.\n",
    "\n",
    "Keyword arguments for initilization:\n",
    "\n",
    "- host = root url for the curator.\n",
    "\n",
    "- user = username, or tuple consisting of (username, password).\n",
    "\n",
    "- pswd = password.\n",
    "\n",
    "- cert = certification file that may be necessary for some curators.\n",
    "\n",
    "- records_fetch = boolean indicating if a local copy of all records are built during initialization. Default value is True."
   ]
  },
  {
   "cell_type": "markdown",
   "metadata": {},
   "source": [
    "#### Initialize an empty MDCS instance and fill in values separately"
   ]
  },
  {
   "cell_type": "code",
   "execution_count": 2,
   "metadata": {
    "collapsed": true
   },
   "outputs": [],
   "source": [
    "empty = mdcs.MDCS()\n",
    "empty.host = 'http://127.0.0.1:8000/'\n",
    "empty.user = ('admin', 'admin')"
   ]
  },
  {
   "cell_type": "markdown",
   "metadata": {},
   "source": [
    "#### Initilize a link to a local MDCS using password prompt"
   ]
  },
  {
   "cell_type": "code",
   "execution_count": 3,
   "metadata": {
    "collapsed": false
   },
   "outputs": [
    {
     "name": "stdout",
     "output_type": "stream",
     "text": [
      "Enter password for admin on http://127.0.0.1:8000/:\n",
      "password:········\n"
     ]
    }
   ],
   "source": [
    "local =  mdcs.MDCS(host='http://127.0.0.1:8000/', user='admin')"
   ]
  },
  {
   "cell_type": "markdown",
   "metadata": {},
   "source": [
    "#### Initilize a link to a remote MDCS using both certification and password files"
   ]
  },
  {
   "cell_type": "code",
   "execution_count": 4,
   "metadata": {
    "collapsed": false
   },
   "outputs": [],
   "source": [
    "iprhub = mdcs.MDCS(host='https://iprhub.nist.gov/', \n",
    "                   user='lmh1',\n",
    "                   pswd='C:/users/lmh1/documents/iprhub/iprhub_password.txt',\n",
    "                   cert='C:/users/lmh1/documents/iprhub/iprhub-ca.pem')"
   ]
  },
  {
   "cell_type": "markdown",
   "metadata": {},
   "source": [
    "## Explore Types and Templates\n",
    "\n",
    "When initialized with access information, the MDCS object will query the database and build local Pandas DataFrames of all the types and templates. Copies of these DataFrames can be accessed using the MDCS.templates and MDCS.xsd_types properties."
   ]
  },
  {
   "cell_type": "markdown",
   "metadata": {},
   "source": [
    "#### List templates attribute names "
   ]
  },
  {
   "cell_type": "code",
   "execution_count": 5,
   "metadata": {
    "collapsed": false
   },
   "outputs": [
    {
     "name": "stdout",
     "output_type": "stream",
     "text": [
      "XSLTFiles\n",
      "content\n",
      "dependencies\n",
      "exporters\n",
      "filename\n",
      "hash\n",
      "id\n",
      "templateVersion\n",
      "title\n",
      "version\n"
     ]
    }
   ],
   "source": [
    "for key in local.templates:\n",
    "    print key"
   ]
  },
  {
   "cell_type": "code",
   "execution_count": 6,
   "metadata": {
    "collapsed": false
   },
   "outputs": [
    {
     "data": {
      "text/html": [
       "<div>\n",
       "<table border=\"1\" class=\"dataframe\">\n",
       "  <thead>\n",
       "    <tr style=\"text-align: right;\">\n",
       "      <th></th>\n",
       "      <th>XSLTFiles</th>\n",
       "      <th>content</th>\n",
       "      <th>dependencies</th>\n",
       "      <th>exporters</th>\n",
       "      <th>filename</th>\n",
       "      <th>hash</th>\n",
       "      <th>id</th>\n",
       "      <th>templateVersion</th>\n",
       "      <th>title</th>\n",
       "      <th>version</th>\n",
       "    </tr>\n",
       "  </thead>\n",
       "  <tbody>\n",
       "    <tr>\n",
       "      <th>0</th>\n",
       "      <td>[]</td>\n",
       "      <td>&lt;?xml version=\"1.0\" encoding=\"UTF-8\" standalon...</td>\n",
       "      <td>[57b32b34d92ecc10c8803322, 57b32b35d92ecc10c88...</td>\n",
       "      <td>[]</td>\n",
       "      <td>trash</td>\n",
       "      <td>e6cb30d24c44e96a72714322aae339f96d867454</td>\n",
       "      <td>57b32b3fd92ecc10c880333e</td>\n",
       "      <td>57b32b3fd92ecc10c880333d</td>\n",
       "      <td>trash</td>\n",
       "      <td>1</td>\n",
       "    </tr>\n",
       "    <tr>\n",
       "      <th>1</th>\n",
       "      <td>[]</td>\n",
       "      <td>&lt;?xml version=\"1.0\" encoding=\"UTF-8\" standalon...</td>\n",
       "      <td>[57b338efd92ecc10c8803341]</td>\n",
       "      <td>[]</td>\n",
       "      <td>trash</td>\n",
       "      <td>23c20caab03fe167efc727c977cd66fafbe96ea2</td>\n",
       "      <td>57b338f0d92ecc10c8803344</td>\n",
       "      <td>57b338f0d92ecc10c8803343</td>\n",
       "      <td>trash</td>\n",
       "      <td>1</td>\n",
       "    </tr>\n",
       "    <tr>\n",
       "      <th>2</th>\n",
       "      <td>[]</td>\n",
       "      <td>&lt;?xml version=\"1.0\" encoding=\"UTF-8\" standalon...</td>\n",
       "      <td>[]</td>\n",
       "      <td>[]</td>\n",
       "      <td>record-calculation-system-relax.xsd</td>\n",
       "      <td>d516e03d699d3f2f8b51639f7497c57a6ca2869a</td>\n",
       "      <td>5852caddd92ecc1b88224e7d</td>\n",
       "      <td>5852caddd92ecc1b88224e7c</td>\n",
       "      <td>calculation-system-relax</td>\n",
       "      <td>1</td>\n",
       "    </tr>\n",
       "    <tr>\n",
       "      <th>3</th>\n",
       "      <td>[]</td>\n",
       "      <td>&lt;?xml version=\"1.0\" encoding=\"UTF-8\" standalon...</td>\n",
       "      <td>[]</td>\n",
       "      <td>[]</td>\n",
       "      <td>record-calculation-cohesive-energy-relation.xsd</td>\n",
       "      <td>39719f7d51c3f6ebb0d4c355a827dbad742e1719</td>\n",
       "      <td>5852cadfd92ecc1b88224e7f</td>\n",
       "      <td>5852cadfd92ecc1b88224e7e</td>\n",
       "      <td>calculation-cohesive-energy-relation</td>\n",
       "      <td>1</td>\n",
       "    </tr>\n",
       "    <tr>\n",
       "      <th>4</th>\n",
       "      <td>[]</td>\n",
       "      <td>&lt;?xml version=\"1.0\" encoding=\"UTF-8\" standalon...</td>\n",
       "      <td>[]</td>\n",
       "      <td>[{u'id': u'569e544f7a1398b5d8e01679', u'name':...</td>\n",
       "      <td>record-LAMMPS-potential.xsd</td>\n",
       "      <td>97a9a8f39b9d8cbcab10b8dafe38bb82e9014b58</td>\n",
       "      <td>5858461dd92ecc08149ef7d2</td>\n",
       "      <td>5858461dd92ecc08149ef7d1</td>\n",
       "      <td>LAMMPS-potential</td>\n",
       "      <td>1</td>\n",
       "    </tr>\n",
       "    <tr>\n",
       "      <th>5</th>\n",
       "      <td>[]</td>\n",
       "      <td>&lt;?xml version=\"1.0\" encoding=\"UTF-8\" standalon...</td>\n",
       "      <td>[]</td>\n",
       "      <td>[{u'id': u'569e544f7a1398b5d8e01679', u'name':...</td>\n",
       "      <td>record-crystal-prototype.xsd</td>\n",
       "      <td>a832b6fb6c4fee0e8a7746c47ddac015845a13b3</td>\n",
       "      <td>585ac30bd92ecc0e6c7d541b</td>\n",
       "      <td>585ac30bd92ecc0e6c7d541a</td>\n",
       "      <td>crystal-prototype</td>\n",
       "      <td>1</td>\n",
       "    </tr>\n",
       "  </tbody>\n",
       "</table>\n",
       "</div>"
      ],
      "text/plain": [
       "  XSLTFiles                                            content  \\\n",
       "0        []  <?xml version=\"1.0\" encoding=\"UTF-8\" standalon...   \n",
       "1        []  <?xml version=\"1.0\" encoding=\"UTF-8\" standalon...   \n",
       "2        []  <?xml version=\"1.0\" encoding=\"UTF-8\" standalon...   \n",
       "3        []  <?xml version=\"1.0\" encoding=\"UTF-8\" standalon...   \n",
       "4        []  <?xml version=\"1.0\" encoding=\"UTF-8\" standalon...   \n",
       "5        []  <?xml version=\"1.0\" encoding=\"UTF-8\" standalon...   \n",
       "\n",
       "                                        dependencies  \\\n",
       "0  [57b32b34d92ecc10c8803322, 57b32b35d92ecc10c88...   \n",
       "1                         [57b338efd92ecc10c8803341]   \n",
       "2                                                 []   \n",
       "3                                                 []   \n",
       "4                                                 []   \n",
       "5                                                 []   \n",
       "\n",
       "                                           exporters  \\\n",
       "0                                                 []   \n",
       "1                                                 []   \n",
       "2                                                 []   \n",
       "3                                                 []   \n",
       "4  [{u'id': u'569e544f7a1398b5d8e01679', u'name':...   \n",
       "5  [{u'id': u'569e544f7a1398b5d8e01679', u'name':...   \n",
       "\n",
       "                                          filename  \\\n",
       "0                                            trash   \n",
       "1                                            trash   \n",
       "2              record-calculation-system-relax.xsd   \n",
       "3  record-calculation-cohesive-energy-relation.xsd   \n",
       "4                      record-LAMMPS-potential.xsd   \n",
       "5                     record-crystal-prototype.xsd   \n",
       "\n",
       "                                       hash                        id  \\\n",
       "0  e6cb30d24c44e96a72714322aae339f96d867454  57b32b3fd92ecc10c880333e   \n",
       "1  23c20caab03fe167efc727c977cd66fafbe96ea2  57b338f0d92ecc10c8803344   \n",
       "2  d516e03d699d3f2f8b51639f7497c57a6ca2869a  5852caddd92ecc1b88224e7d   \n",
       "3  39719f7d51c3f6ebb0d4c355a827dbad742e1719  5852cadfd92ecc1b88224e7f   \n",
       "4  97a9a8f39b9d8cbcab10b8dafe38bb82e9014b58  5858461dd92ecc08149ef7d2   \n",
       "5  a832b6fb6c4fee0e8a7746c47ddac015845a13b3  585ac30bd92ecc0e6c7d541b   \n",
       "\n",
       "            templateVersion                                 title  version  \n",
       "0  57b32b3fd92ecc10c880333d                                 trash        1  \n",
       "1  57b338f0d92ecc10c8803343                                 trash        1  \n",
       "2  5852caddd92ecc1b88224e7c              calculation-system-relax        1  \n",
       "3  5852cadfd92ecc1b88224e7e  calculation-cohesive-energy-relation        1  \n",
       "4  5858461dd92ecc08149ef7d1                      LAMMPS-potential        1  \n",
       "5  585ac30bd92ecc0e6c7d541a                     crystal-prototype        1  "
      ]
     },
     "execution_count": 6,
     "metadata": {},
     "output_type": "execute_result"
    }
   ],
   "source": [
    "local.templates"
   ]
  },
  {
   "cell_type": "markdown",
   "metadata": {},
   "source": [
    "#### List names of all templates on local"
   ]
  },
  {
   "cell_type": "code",
   "execution_count": 7,
   "metadata": {
    "collapsed": false
   },
   "outputs": [
    {
     "name": "stdout",
     "output_type": "stream",
     "text": [
      "trash\n",
      "trash\n",
      "calculation-system-relax\n",
      "calculation-cohesive-energy-relation\n",
      "LAMMPS-potential\n",
      "crystal-prototype\n"
     ]
    }
   ],
   "source": [
    "for template in local.templates.title.tolist():\n",
    "    print template"
   ]
  },
  {
   "cell_type": "markdown",
   "metadata": {},
   "source": [
    "#### List names of all types on local"
   ]
  },
  {
   "cell_type": "code",
   "execution_count": 8,
   "metadata": {
    "collapsed": false
   },
   "outputs": [
    {
     "name": "stdout",
     "output_type": "stream",
     "text": [
      "uncertainty\n",
      "physical-quantity\n",
      "physical-quantity-numerator_L-denominator_\n",
      "physical-quantity-numerator_MLL-denominator_TT\n",
      "physical-quantity-numerator_M-denominator_LTT\n",
      "chemical-element\n",
      "chemical-element\n",
      "chemical-element\n",
      "atom\n",
      "interatomic-potential-compact-id\n",
      "elastic-stiffness-voigt\n",
      "physical-quantity-numerator_1-denominator_\n",
      "atomic-cell\n",
      "atomic-system\n",
      "physical-quantity-numerator_0-denominator_\n",
      "note\n",
      "remote-file\n",
      "lammps-potential\n",
      "uncertainty-new\n",
      "new-uncertainty\n",
      "newt-uncertainty\n"
     ]
    }
   ],
   "source": [
    "for xsd_type in local.xsd_types.title.tolist():\n",
    "    print xsd_type"
   ]
  },
  {
   "cell_type": "markdown",
   "metadata": {},
   "source": [
    "### Finding a Specific Template or Type\n",
    "\n",
    "Pandas has great built-in tools for parsing through the listed records. For convience, the MDCS class also has the methods get_template() and get_xsd_type() for locating a specific template or type. These methods return the Series of the matching template/type and issue an error if exactly one matching template/type is not found. \n",
    "\n",
    "One optional argument is allowed. If given, a limiting search is performed using the template's title and filename (if not specified as keywords).\n",
    "\n",
    "If any of the following keyword arguments are given, the returned template must have matching corresponding values for the terms.\n",
    "\n",
    "- filename = name of the file associated with the template/type\n",
    "\n",
    "- title = name assigned to the template/type\n",
    "\n",
    "- version = version assigned to the template/type"
   ]
  },
  {
   "cell_type": "markdown",
   "metadata": {},
   "source": [
    "#### Get template information for LAMMPS-potential template"
   ]
  },
  {
   "cell_type": "code",
   "execution_count": 8,
   "metadata": {
    "collapsed": false
   },
   "outputs": [
    {
     "data": {
      "text/plain": [
       "XSLTFiles                                                         []\n",
       "content            <?xml version=\"1.0\" encoding=\"UTF-8\" standalon...\n",
       "dependencies                              [57b338efd92ecc10c8803341]\n",
       "exporters                                                         []\n",
       "filename                                 record-lammps-potential.xsd\n",
       "hash                        23c20caab03fe167efc727c977cd66fafbe96ea2\n",
       "id                                          57b338f0d92ecc10c8803344\n",
       "templateVersion                             57b338f0d92ecc10c8803343\n",
       "title                                               LAMMPS-potential\n",
       "version                                                            1\n",
       "Name: 1, dtype: object"
      ]
     },
     "execution_count": 8,
     "metadata": {},
     "output_type": "execute_result"
    }
   ],
   "source": [
    "local.get_template('LAMMPS-potential')"
   ]
  },
  {
   "cell_type": "markdown",
   "metadata": {},
   "source": [
    "## Explore Records\n",
    "\n",
    "Records are similarly copied to a local DataFrame and can be viewed with the property MDCS.records. "
   ]
  },
  {
   "cell_type": "markdown",
   "metadata": {},
   "source": [
    "#### Display the content of iprhub.records"
   ]
  },
  {
   "cell_type": "code",
   "execution_count": 9,
   "metadata": {
    "collapsed": false
   },
   "outputs": [
    {
     "data": {
      "text/html": [
       "<div>\n",
       "<table border=\"1\" class=\"dataframe\">\n",
       "  <thead>\n",
       "    <tr style=\"text-align: right;\">\n",
       "      <th></th>\n",
       "      <th>_id</th>\n",
       "      <th>content</th>\n",
       "      <th>schema</th>\n",
       "      <th>title</th>\n",
       "    </tr>\n",
       "  </thead>\n",
       "  <tbody>\n",
       "    <tr>\n",
       "      <th>0</th>\n",
       "      <td>5723b73e2403f03d834cfbd1</td>\n",
       "      <td>&lt;?xml version=\"1.0\" encoding=\"utf-8\"?&gt;\\n&lt;jarvi...</td>\n",
       "      <td>5723b6f92403f03d834cfbcf</td>\n",
       "      <td>JARVIS-one-demo</td>\n",
       "    </tr>\n",
       "    <tr>\n",
       "      <th>1</th>\n",
       "      <td>573330b12403f0029503762c</td>\n",
       "      <td>&lt;?xml version=\"1.0\" encoding=\"utf-8\"?&gt;\\n&lt;LAMMP...</td>\n",
       "      <td>56d45ae62403f01fe9027216</td>\n",
       "      <td>1985--Foiles-S-M--Ni-Cu</td>\n",
       "    </tr>\n",
       "    <tr>\n",
       "      <th>2</th>\n",
       "      <td>573330b22403f0029503762d</td>\n",
       "      <td>&lt;?xml version=\"1.0\" encoding=\"utf-8\"?&gt;\\n&lt;LAMMP...</td>\n",
       "      <td>56d45ae62403f01fe9027216</td>\n",
       "      <td>1987--Ackland-G-J--Ag</td>\n",
       "    </tr>\n",
       "    <tr>\n",
       "      <th>3</th>\n",
       "      <td>573330b22403f0029503762e</td>\n",
       "      <td>&lt;?xml version=\"1.0\" encoding=\"utf-8\"?&gt;\\n&lt;LAMMP...</td>\n",
       "      <td>56d45ae62403f01fe9027216</td>\n",
       "      <td>1987--Ackland-G-J--Au</td>\n",
       "    </tr>\n",
       "    <tr>\n",
       "      <th>4</th>\n",
       "      <td>573330b22403f0029503762f</td>\n",
       "      <td>&lt;?xml version=\"1.0\" encoding=\"utf-8\"?&gt;\\n&lt;LAMMP...</td>\n",
       "      <td>56d45ae62403f01fe9027216</td>\n",
       "      <td>1987--Ackland-G-J--Cu</td>\n",
       "    </tr>\n",
       "    <tr>\n",
       "      <th>5</th>\n",
       "      <td>573330b32403f00295037630</td>\n",
       "      <td>&lt;?xml version=\"1.0\" encoding=\"utf-8\"?&gt;\\n&lt;LAMMP...</td>\n",
       "      <td>56d45ae62403f01fe9027216</td>\n",
       "      <td>1987--Ackland-G-J--Mo</td>\n",
       "    </tr>\n",
       "    <tr>\n",
       "      <th>6</th>\n",
       "      <td>573330b32403f00295037631</td>\n",
       "      <td>&lt;?xml version=\"1.0\" encoding=\"utf-8\"?&gt;\\n&lt;LAMMP...</td>\n",
       "      <td>56d45ae62403f01fe9027216</td>\n",
       "      <td>1987--Ackland-G-J--Ni</td>\n",
       "    </tr>\n",
       "    <tr>\n",
       "      <th>7</th>\n",
       "      <td>573330b32403f00295037632</td>\n",
       "      <td>&lt;?xml version=\"1.0\" encoding=\"utf-8\"?&gt;\\n&lt;LAMMP...</td>\n",
       "      <td>56d45ae62403f01fe9027216</td>\n",
       "      <td>1989--Adams-J-B--Ag</td>\n",
       "    </tr>\n",
       "    <tr>\n",
       "      <th>8</th>\n",
       "      <td>573330b42403f00295037633</td>\n",
       "      <td>&lt;?xml version=\"1.0\" encoding=\"utf-8\"?&gt;\\n&lt;LAMMP...</td>\n",
       "      <td>56d45ae62403f01fe9027216</td>\n",
       "      <td>1989--Adams-J-B--Au</td>\n",
       "    </tr>\n",
       "    <tr>\n",
       "      <th>9</th>\n",
       "      <td>573330b42403f00295037634</td>\n",
       "      <td>&lt;?xml version=\"1.0\" encoding=\"utf-8\"?&gt;\\n&lt;LAMMP...</td>\n",
       "      <td>56d45ae62403f01fe9027216</td>\n",
       "      <td>1989--Adams-J-B--Cu</td>\n",
       "    </tr>\n",
       "    <tr>\n",
       "      <th>10</th>\n",
       "      <td>573330b42403f00295037635</td>\n",
       "      <td>&lt;?xml version=\"1.0\" encoding=\"utf-8\"?&gt;\\n&lt;LAMMP...</td>\n",
       "      <td>56d45ae62403f01fe9027216</td>\n",
       "      <td>1989--Adams-J-B--Ni</td>\n",
       "    </tr>\n",
       "    <tr>\n",
       "      <th>11</th>\n",
       "      <td>573330b52403f00295037636</td>\n",
       "      <td>&lt;?xml version=\"1.0\" encoding=\"utf-8\"?&gt;\\n&lt;LAMMP...</td>\n",
       "      <td>56d45ae62403f01fe9027216</td>\n",
       "      <td>1989--Adams-J-B--Pd</td>\n",
       "    </tr>\n",
       "    <tr>\n",
       "      <th>12</th>\n",
       "      <td>573330b52403f00295037637</td>\n",
       "      <td>&lt;?xml version=\"1.0\" encoding=\"utf-8\"?&gt;\\n&lt;LAMMP...</td>\n",
       "      <td>56d45ae62403f01fe9027216</td>\n",
       "      <td>1989--Adams-J-B--Pt</td>\n",
       "    </tr>\n",
       "    <tr>\n",
       "      <th>13</th>\n",
       "      <td>573330b52403f00295037638</td>\n",
       "      <td>&lt;?xml version=\"1.0\" encoding=\"utf-8\"?&gt;\\n&lt;LAMMP...</td>\n",
       "      <td>56d45ae62403f01fe9027216</td>\n",
       "      <td>1992--Ackland-G-J--Ti</td>\n",
       "    </tr>\n",
       "    <tr>\n",
       "      <th>14</th>\n",
       "      <td>573330b52403f00295037639</td>\n",
       "      <td>&lt;?xml version=\"1.0\" encoding=\"utf-8\"?&gt;\\n&lt;LAMMP...</td>\n",
       "      <td>56d45ae62403f01fe9027216</td>\n",
       "      <td>1995--Angelo-J-E--Ni-Al-H</td>\n",
       "    </tr>\n",
       "    <tr>\n",
       "      <th>15</th>\n",
       "      <td>573330b62403f0029503763a</td>\n",
       "      <td>&lt;?xml version=\"1.0\" encoding=\"utf-8\"?&gt;\\n&lt;LAMMP...</td>\n",
       "      <td>56d45ae62403f01fe9027216</td>\n",
       "      <td>1996--Farkas-D--Nb-Ti-Al</td>\n",
       "    </tr>\n",
       "    <tr>\n",
       "      <th>16</th>\n",
       "      <td>573330b62403f0029503763b</td>\n",
       "      <td>&lt;?xml version=\"1.0\" encoding=\"utf-8\"?&gt;\\n&lt;LAMMP...</td>\n",
       "      <td>56d45ae62403f01fe9027216</td>\n",
       "      <td>1997--Ackland-G-J--Fe</td>\n",
       "    </tr>\n",
       "    <tr>\n",
       "      <th>17</th>\n",
       "      <td>573330b62403f0029503763c</td>\n",
       "      <td>&lt;?xml version=\"1.0\" encoding=\"utf-8\"?&gt;\\n&lt;LAMMP...</td>\n",
       "      <td>56d45ae62403f01fe9027216</td>\n",
       "      <td>1997--Liu-X-Y--Al-Mg</td>\n",
       "    </tr>\n",
       "    <tr>\n",
       "      <th>18</th>\n",
       "      <td>573330b72403f0029503763d</td>\n",
       "      <td>&lt;?xml version=\"1.0\" encoding=\"utf-8\"?&gt;\\n&lt;LAMMP...</td>\n",
       "      <td>56d45ae62403f01fe9027216</td>\n",
       "      <td>1999--Mishin-Y--Al</td>\n",
       "    </tr>\n",
       "    <tr>\n",
       "      <th>19</th>\n",
       "      <td>573330b72403f0029503763e</td>\n",
       "      <td>&lt;?xml version=\"1.0\" encoding=\"utf-8\"?&gt;\\n&lt;LAMMP...</td>\n",
       "      <td>56d45ae62403f01fe9027216</td>\n",
       "      <td>1999--Mishin-Y--Ni</td>\n",
       "    </tr>\n",
       "    <tr>\n",
       "      <th>20</th>\n",
       "      <td>573330b72403f0029503763f</td>\n",
       "      <td>&lt;?xml version=\"1.0\" encoding=\"utf-8\"?&gt;\\n&lt;LAMMP...</td>\n",
       "      <td>56d45ae62403f01fe9027216</td>\n",
       "      <td>2000--Landa-A--Al-Pb</td>\n",
       "    </tr>\n",
       "    <tr>\n",
       "      <th>21</th>\n",
       "      <td>573330b82403f00295037640</td>\n",
       "      <td>&lt;?xml version=\"1.0\" encoding=\"utf-8\"?&gt;\\n&lt;LAMMP...</td>\n",
       "      <td>56d45ae62403f01fe9027216</td>\n",
       "      <td>2000--Sturgeon-J-B--Al</td>\n",
       "    </tr>\n",
       "    <tr>\n",
       "      <th>22</th>\n",
       "      <td>573330b82403f00295037641</td>\n",
       "      <td>&lt;?xml version=\"1.0\" encoding=\"utf-8\"?&gt;\\n&lt;LAMMP...</td>\n",
       "      <td>56d45ae62403f01fe9027216</td>\n",
       "      <td>2001--Mishin-Y--Cu-1</td>\n",
       "    </tr>\n",
       "    <tr>\n",
       "      <th>23</th>\n",
       "      <td>573330b82403f00295037642</td>\n",
       "      <td>&lt;?xml version=\"1.0\" encoding=\"utf-8\"?&gt;\\n&lt;LAMMP...</td>\n",
       "      <td>56d45ae62403f01fe9027216</td>\n",
       "      <td>2002--Mishin-Y--Ni-Al</td>\n",
       "    </tr>\n",
       "    <tr>\n",
       "      <th>24</th>\n",
       "      <td>573330b92403f00295037643</td>\n",
       "      <td>&lt;?xml version=\"1.0\" encoding=\"utf-8\"?&gt;\\n&lt;LAMMP...</td>\n",
       "      <td>56d45ae62403f01fe9027216</td>\n",
       "      <td>2003--Ackland-G-J--W</td>\n",
       "    </tr>\n",
       "    <tr>\n",
       "      <th>25</th>\n",
       "      <td>573330b92403f00295037644</td>\n",
       "      <td>&lt;?xml version=\"1.0\" encoding=\"utf-8\"?&gt;\\n&lt;LAMMP...</td>\n",
       "      <td>56d45ae62403f01fe9027216</td>\n",
       "      <td>2003--Hoyt-J-J--Cu-Pb</td>\n",
       "    </tr>\n",
       "    <tr>\n",
       "      <th>26</th>\n",
       "      <td>573330b92403f00295037645</td>\n",
       "      <td>&lt;?xml version=\"1.0\" encoding=\"utf-8\"?&gt;\\n&lt;LAMMP...</td>\n",
       "      <td>56d45ae62403f01fe9027216</td>\n",
       "      <td>2003--Li-Y-H--Ta</td>\n",
       "    </tr>\n",
       "    <tr>\n",
       "      <th>27</th>\n",
       "      <td>573330ba2403f00295037646</td>\n",
       "      <td>&lt;?xml version=\"1.0\" encoding=\"utf-8\"?&gt;\\n&lt;LAMMP...</td>\n",
       "      <td>56d45ae62403f01fe9027216</td>\n",
       "      <td>2003--Mendelev-M-I--Fe-2</td>\n",
       "    </tr>\n",
       "    <tr>\n",
       "      <th>28</th>\n",
       "      <td>573330ba2403f00295037647</td>\n",
       "      <td>&lt;?xml version=\"1.0\" encoding=\"utf-8\"?&gt;\\n&lt;LAMMP...</td>\n",
       "      <td>56d45ae62403f01fe9027216</td>\n",
       "      <td>2003--Mendelev-M-I--Fe-5</td>\n",
       "    </tr>\n",
       "    <tr>\n",
       "      <th>29</th>\n",
       "      <td>573330ba2403f00295037648</td>\n",
       "      <td>&lt;?xml version=\"1.0\" encoding=\"utf-8\"?&gt;\\n&lt;LAMMP...</td>\n",
       "      <td>56d45ae62403f01fe9027216</td>\n",
       "      <td>2003--Zope-R-R--Al</td>\n",
       "    </tr>\n",
       "    <tr>\n",
       "      <th>...</th>\n",
       "      <td>...</td>\n",
       "      <td>...</td>\n",
       "      <td>...</td>\n",
       "      <td>...</td>\n",
       "    </tr>\n",
       "    <tr>\n",
       "      <th>212</th>\n",
       "      <td>573b33752403f020621655a9</td>\n",
       "      <td>&lt;?xml version=\"1.0\" encoding=\"utf-8\"?&gt;\\n&lt;inter...</td>\n",
       "      <td>573b10a12403f020621654a5</td>\n",
       "      <td>potential.2013--Henriksson-K-O-E--Fe-C</td>\n",
       "    </tr>\n",
       "    <tr>\n",
       "      <th>213</th>\n",
       "      <td>573b33762403f020621655aa</td>\n",
       "      <td>&lt;?xml version=\"1.0\" encoding=\"utf-8\"?&gt;\\n&lt;inter...</td>\n",
       "      <td>573b10a12403f020621654a5</td>\n",
       "      <td>potential.2013--Ravelo-R--Ta</td>\n",
       "    </tr>\n",
       "    <tr>\n",
       "      <th>214</th>\n",
       "      <td>573b33762403f020621655ab</td>\n",
       "      <td>&lt;?xml version=\"1.0\" encoding=\"utf-8\"?&gt;\\n&lt;inter...</td>\n",
       "      <td>573b10a12403f020621654a5</td>\n",
       "      <td>potential.2013--Smirnova-D-E--U-Mo-Xe</td>\n",
       "    </tr>\n",
       "    <tr>\n",
       "      <th>215</th>\n",
       "      <td>573b33762403f020621655ac</td>\n",
       "      <td>&lt;?xml version=\"1.0\" encoding=\"utf-8\"?&gt;\\n&lt;inter...</td>\n",
       "      <td>573b10a12403f020621654a5</td>\n",
       "      <td>potential.2013--Zhou-X-W--Zn-Cd-Hg-S-Se-Te</td>\n",
       "    </tr>\n",
       "    <tr>\n",
       "      <th>216</th>\n",
       "      <td>573b33772403f020621655ad</td>\n",
       "      <td>&lt;?xml version=\"1.0\" encoding=\"utf-8\"?&gt;\\n&lt;inter...</td>\n",
       "      <td>573b10a12403f020621654a5</td>\n",
       "      <td>potential.2014--Alexander-E--UO2</td>\n",
       "    </tr>\n",
       "    <tr>\n",
       "      <th>217</th>\n",
       "      <td>573b33772403f020621655ae</td>\n",
       "      <td>&lt;?xml version=\"1.0\" encoding=\"utf-8\"?&gt;\\n&lt;inter...</td>\n",
       "      <td>573b10a12403f020621654a5</td>\n",
       "      <td>potential.2014--Bonny-G--W-H-He</td>\n",
       "    </tr>\n",
       "    <tr>\n",
       "      <th>218</th>\n",
       "      <td>573b33772403f020621655af</td>\n",
       "      <td>&lt;?xml version=\"1.0\" encoding=\"utf-8\"?&gt;\\n&lt;inter...</td>\n",
       "      <td>573b10a12403f020621654a5</td>\n",
       "      <td>potential.2014--Fernandez-J-R-Pascuet-M-I--U</td>\n",
       "    </tr>\n",
       "    <tr>\n",
       "      <th>219</th>\n",
       "      <td>573b33782403f020621655b0</td>\n",
       "      <td>&lt;?xml version=\"1.0\" encoding=\"utf-8\"?&gt;\\n&lt;inter...</td>\n",
       "      <td>573b10a12403f020621654a5</td>\n",
       "      <td>potential.2014--Liyanage-L-S-I--Fe-C</td>\n",
       "    </tr>\n",
       "    <tr>\n",
       "      <th>220</th>\n",
       "      <td>573b33782403f020621655b1</td>\n",
       "      <td>&lt;?xml version=\"1.0\" encoding=\"utf-8\"?&gt;\\n&lt;inter...</td>\n",
       "      <td>573b10a12403f020621654a5</td>\n",
       "      <td>potential.2014--Nouranian-S--C-H</td>\n",
       "    </tr>\n",
       "    <tr>\n",
       "      <th>221</th>\n",
       "      <td>573b33782403f020621655b2</td>\n",
       "      <td>&lt;?xml version=\"1.0\" encoding=\"utf-8\"?&gt;\\n&lt;inter...</td>\n",
       "      <td>573b10a12403f020621654a5</td>\n",
       "      <td>potential.2014--Wang-J--W</td>\n",
       "    </tr>\n",
       "    <tr>\n",
       "      <th>222</th>\n",
       "      <td>573b33792403f020621655b3</td>\n",
       "      <td>&lt;?xml version=\"1.0\" encoding=\"utf-8\"?&gt;\\n&lt;inter...</td>\n",
       "      <td>573b10a12403f020621654a5</td>\n",
       "      <td>potential.2015--Borovikov-V--Fictional-Cu</td>\n",
       "    </tr>\n",
       "    <tr>\n",
       "      <th>223</th>\n",
       "      <td>573b33792403f020621655b4</td>\n",
       "      <td>&lt;?xml version=\"1.0\" encoding=\"utf-8\"?&gt;\\n&lt;inter...</td>\n",
       "      <td>573b10a12403f020621654a5</td>\n",
       "      <td>potential.2015--Eich-S-M--Fe-Cr</td>\n",
       "    </tr>\n",
       "    <tr>\n",
       "      <th>224</th>\n",
       "      <td>573b33792403f020621655b5</td>\n",
       "      <td>&lt;?xml version=\"1.0\" encoding=\"utf-8\"?&gt;\\n&lt;inter...</td>\n",
       "      <td>573b10a12403f020621654a5</td>\n",
       "      <td>potential.2015--Mendelev-M-I--Al-Sm</td>\n",
       "    </tr>\n",
       "    <tr>\n",
       "      <th>225</th>\n",
       "      <td>573b337a2403f020621655b6</td>\n",
       "      <td>&lt;?xml version=\"1.0\" encoding=\"utf-8\"?&gt;\\n&lt;inter...</td>\n",
       "      <td>573b10a12403f020621654a5</td>\n",
       "      <td>potential.2015--Mendelev-M-I--Fictional-Cu</td>\n",
       "    </tr>\n",
       "    <tr>\n",
       "      <th>226</th>\n",
       "      <td>573b337a2403f020621655b7</td>\n",
       "      <td>&lt;?xml version=\"1.0\" encoding=\"utf-8\"?&gt;\\n&lt;inter...</td>\n",
       "      <td>573b10a12403f020621654a5</td>\n",
       "      <td>potential.2015--Mendelev-M-I--Fictional-Mg</td>\n",
       "    </tr>\n",
       "    <tr>\n",
       "      <th>227</th>\n",
       "      <td>573b337a2403f020621655b8</td>\n",
       "      <td>&lt;?xml version=\"1.0\" encoding=\"utf-8\"?&gt;\\n&lt;inter...</td>\n",
       "      <td>573b10a12403f020621654a5</td>\n",
       "      <td>potential.2015--Mendelev-M-I--Fictional-W</td>\n",
       "    </tr>\n",
       "    <tr>\n",
       "      <th>228</th>\n",
       "      <td>573b337b2403f020621655b9</td>\n",
       "      <td>&lt;?xml version=\"1.0\" encoding=\"utf-8\"?&gt;\\n&lt;inter...</td>\n",
       "      <td>573b10a12403f020621654a5</td>\n",
       "      <td>potential.2015--Mendelev-M-I--Mg</td>\n",
       "    </tr>\n",
       "    <tr>\n",
       "      <th>229</th>\n",
       "      <td>573b337b2403f020621655ba</td>\n",
       "      <td>&lt;?xml version=\"1.0\" encoding=\"utf-8\"?&gt;\\n&lt;inter...</td>\n",
       "      <td>573b10a12403f020621654a5</td>\n",
       "      <td>potential.2015--Moore-A-P--U-Zr</td>\n",
       "    </tr>\n",
       "    <tr>\n",
       "      <th>230</th>\n",
       "      <td>573b337b2403f020621655bb</td>\n",
       "      <td>&lt;?xml version=\"1.0\" encoding=\"utf-8\"?&gt;\\n&lt;inter...</td>\n",
       "      <td>573b10a12403f020621654a5</td>\n",
       "      <td>potential.2015--Pascuet-M-I-Fernandez-J-R--Al-U</td>\n",
       "    </tr>\n",
       "    <tr>\n",
       "      <th>231</th>\n",
       "      <td>573b337c2403f020621655bc</td>\n",
       "      <td>&lt;?xml version=\"1.0\" encoding=\"utf-8\"?&gt;\\n&lt;inter...</td>\n",
       "      <td>573b10a12403f020621654a5</td>\n",
       "      <td>potential.2015--Pascuet-M-I-Fernandez-J-R--Al</td>\n",
       "    </tr>\n",
       "    <tr>\n",
       "      <th>232</th>\n",
       "      <td>573b337c2403f020621655be</td>\n",
       "      <td>&lt;?xml version=\"1.0\" encoding=\"utf-8\"?&gt;\\n&lt;inter...</td>\n",
       "      <td>573b10a12403f020621654a5</td>\n",
       "      <td>potential.2015--Purja-Pun-G-P--Cu-Ta</td>\n",
       "    </tr>\n",
       "    <tr>\n",
       "      <th>233</th>\n",
       "      <td>573b337d2403f020621655c1</td>\n",
       "      <td>&lt;?xml version=\"1.0\" encoding=\"utf-8\"?&gt;\\n&lt;inter...</td>\n",
       "      <td>573b10a12403f020621654a5</td>\n",
       "      <td>potential.2015--Wilson-S-R--Fictional-Na</td>\n",
       "    </tr>\n",
       "    <tr>\n",
       "      <th>234</th>\n",
       "      <td>573b337e2403f020621655c2</td>\n",
       "      <td>&lt;?xml version=\"1.0\" encoding=\"utf-8\"?&gt;\\n&lt;inter...</td>\n",
       "      <td>573b10a12403f020621654a5</td>\n",
       "      <td>potential.2015--Wilson-S-R--Na</td>\n",
       "    </tr>\n",
       "    <tr>\n",
       "      <th>235</th>\n",
       "      <td>573b337e2403f020621655c3</td>\n",
       "      <td>&lt;?xml version=\"1.0\" encoding=\"utf-8\"?&gt;\\n&lt;inter...</td>\n",
       "      <td>573b10a12403f020621654a5</td>\n",
       "      <td>potential.2015--Wilson-S-R--Ni-Zr</td>\n",
       "    </tr>\n",
       "    <tr>\n",
       "      <th>236</th>\n",
       "      <td>573f0ec22403f0345aec06bb</td>\n",
       "      <td>&lt;?xml version=\"1.0\" encoding=\"utf-8\"?&gt;\\n&lt;micro...</td>\n",
       "      <td>573f0c9d2403f0345aec0678</td>\n",
       "      <td>demo.xml</td>\n",
       "    </tr>\n",
       "    <tr>\n",
       "      <th>237</th>\n",
       "      <td>575ab14d2403f0133fb17c75</td>\n",
       "      <td>&lt;?xml version=\"1.0\" encoding=\"utf-8\"?&gt;\\n&lt;inter...</td>\n",
       "      <td>573b10a12403f020621654a5</td>\n",
       "      <td>potential.2015--Purja-Pun-G-P--Ni-Co</td>\n",
       "    </tr>\n",
       "    <tr>\n",
       "      <th>238</th>\n",
       "      <td>575ab17e2403f0133fb17c76</td>\n",
       "      <td>&lt;?xml version=\"1.0\" encoding=\"utf-8\"?&gt;\\n&lt;inter...</td>\n",
       "      <td>573b10a12403f020621654a5</td>\n",
       "      <td>potential.2015--Purja-Pun-G-P--Ni-Al-Co</td>\n",
       "    </tr>\n",
       "    <tr>\n",
       "      <th>239</th>\n",
       "      <td>575ab19a2403f0133fb17c77</td>\n",
       "      <td>&lt;?xml version=\"1.0\" encoding=\"utf-8\"?&gt;\\n&lt;inter...</td>\n",
       "      <td>573b10a12403f020621654a5</td>\n",
       "      <td>potential.2015--Purja-Pun-G-P--Al-Co</td>\n",
       "    </tr>\n",
       "    <tr>\n",
       "      <th>240</th>\n",
       "      <td>575ab4c72403f0133fb17c78</td>\n",
       "      <td>&lt;?xml version=\"1.0\" encoding=\"utf-8\"?&gt;\\n&lt;inter...</td>\n",
       "      <td>573b10a12403f020621654a5</td>\n",
       "      <td>potential.2016--Zhang-P--Ti-O</td>\n",
       "    </tr>\n",
       "    <tr>\n",
       "      <th>241</th>\n",
       "      <td>57a0fcbc2403f018a9084c3d</td>\n",
       "      <td>&lt;?xml version=\"1.0\" encoding=\"utf-8\"?&gt;\\n&lt;calcu...</td>\n",
       "      <td>57a0fab62403f018a9084c3b</td>\n",
       "      <td>test xsd any</td>\n",
       "    </tr>\n",
       "  </tbody>\n",
       "</table>\n",
       "<p>242 rows × 4 columns</p>\n",
       "</div>"
      ],
      "text/plain": [
       "                          _id  \\\n",
       "0    5723b73e2403f03d834cfbd1   \n",
       "1    573330b12403f0029503762c   \n",
       "2    573330b22403f0029503762d   \n",
       "3    573330b22403f0029503762e   \n",
       "4    573330b22403f0029503762f   \n",
       "5    573330b32403f00295037630   \n",
       "6    573330b32403f00295037631   \n",
       "7    573330b32403f00295037632   \n",
       "8    573330b42403f00295037633   \n",
       "9    573330b42403f00295037634   \n",
       "10   573330b42403f00295037635   \n",
       "11   573330b52403f00295037636   \n",
       "12   573330b52403f00295037637   \n",
       "13   573330b52403f00295037638   \n",
       "14   573330b52403f00295037639   \n",
       "15   573330b62403f0029503763a   \n",
       "16   573330b62403f0029503763b   \n",
       "17   573330b62403f0029503763c   \n",
       "18   573330b72403f0029503763d   \n",
       "19   573330b72403f0029503763e   \n",
       "20   573330b72403f0029503763f   \n",
       "21   573330b82403f00295037640   \n",
       "22   573330b82403f00295037641   \n",
       "23   573330b82403f00295037642   \n",
       "24   573330b92403f00295037643   \n",
       "25   573330b92403f00295037644   \n",
       "26   573330b92403f00295037645   \n",
       "27   573330ba2403f00295037646   \n",
       "28   573330ba2403f00295037647   \n",
       "29   573330ba2403f00295037648   \n",
       "..                        ...   \n",
       "212  573b33752403f020621655a9   \n",
       "213  573b33762403f020621655aa   \n",
       "214  573b33762403f020621655ab   \n",
       "215  573b33762403f020621655ac   \n",
       "216  573b33772403f020621655ad   \n",
       "217  573b33772403f020621655ae   \n",
       "218  573b33772403f020621655af   \n",
       "219  573b33782403f020621655b0   \n",
       "220  573b33782403f020621655b1   \n",
       "221  573b33782403f020621655b2   \n",
       "222  573b33792403f020621655b3   \n",
       "223  573b33792403f020621655b4   \n",
       "224  573b33792403f020621655b5   \n",
       "225  573b337a2403f020621655b6   \n",
       "226  573b337a2403f020621655b7   \n",
       "227  573b337a2403f020621655b8   \n",
       "228  573b337b2403f020621655b9   \n",
       "229  573b337b2403f020621655ba   \n",
       "230  573b337b2403f020621655bb   \n",
       "231  573b337c2403f020621655bc   \n",
       "232  573b337c2403f020621655be   \n",
       "233  573b337d2403f020621655c1   \n",
       "234  573b337e2403f020621655c2   \n",
       "235  573b337e2403f020621655c3   \n",
       "236  573f0ec22403f0345aec06bb   \n",
       "237  575ab14d2403f0133fb17c75   \n",
       "238  575ab17e2403f0133fb17c76   \n",
       "239  575ab19a2403f0133fb17c77   \n",
       "240  575ab4c72403f0133fb17c78   \n",
       "241  57a0fcbc2403f018a9084c3d   \n",
       "\n",
       "                                               content  \\\n",
       "0    <?xml version=\"1.0\" encoding=\"utf-8\"?>\\n<jarvi...   \n",
       "1    <?xml version=\"1.0\" encoding=\"utf-8\"?>\\n<LAMMP...   \n",
       "2    <?xml version=\"1.0\" encoding=\"utf-8\"?>\\n<LAMMP...   \n",
       "3    <?xml version=\"1.0\" encoding=\"utf-8\"?>\\n<LAMMP...   \n",
       "4    <?xml version=\"1.0\" encoding=\"utf-8\"?>\\n<LAMMP...   \n",
       "5    <?xml version=\"1.0\" encoding=\"utf-8\"?>\\n<LAMMP...   \n",
       "6    <?xml version=\"1.0\" encoding=\"utf-8\"?>\\n<LAMMP...   \n",
       "7    <?xml version=\"1.0\" encoding=\"utf-8\"?>\\n<LAMMP...   \n",
       "8    <?xml version=\"1.0\" encoding=\"utf-8\"?>\\n<LAMMP...   \n",
       "9    <?xml version=\"1.0\" encoding=\"utf-8\"?>\\n<LAMMP...   \n",
       "10   <?xml version=\"1.0\" encoding=\"utf-8\"?>\\n<LAMMP...   \n",
       "11   <?xml version=\"1.0\" encoding=\"utf-8\"?>\\n<LAMMP...   \n",
       "12   <?xml version=\"1.0\" encoding=\"utf-8\"?>\\n<LAMMP...   \n",
       "13   <?xml version=\"1.0\" encoding=\"utf-8\"?>\\n<LAMMP...   \n",
       "14   <?xml version=\"1.0\" encoding=\"utf-8\"?>\\n<LAMMP...   \n",
       "15   <?xml version=\"1.0\" encoding=\"utf-8\"?>\\n<LAMMP...   \n",
       "16   <?xml version=\"1.0\" encoding=\"utf-8\"?>\\n<LAMMP...   \n",
       "17   <?xml version=\"1.0\" encoding=\"utf-8\"?>\\n<LAMMP...   \n",
       "18   <?xml version=\"1.0\" encoding=\"utf-8\"?>\\n<LAMMP...   \n",
       "19   <?xml version=\"1.0\" encoding=\"utf-8\"?>\\n<LAMMP...   \n",
       "20   <?xml version=\"1.0\" encoding=\"utf-8\"?>\\n<LAMMP...   \n",
       "21   <?xml version=\"1.0\" encoding=\"utf-8\"?>\\n<LAMMP...   \n",
       "22   <?xml version=\"1.0\" encoding=\"utf-8\"?>\\n<LAMMP...   \n",
       "23   <?xml version=\"1.0\" encoding=\"utf-8\"?>\\n<LAMMP...   \n",
       "24   <?xml version=\"1.0\" encoding=\"utf-8\"?>\\n<LAMMP...   \n",
       "25   <?xml version=\"1.0\" encoding=\"utf-8\"?>\\n<LAMMP...   \n",
       "26   <?xml version=\"1.0\" encoding=\"utf-8\"?>\\n<LAMMP...   \n",
       "27   <?xml version=\"1.0\" encoding=\"utf-8\"?>\\n<LAMMP...   \n",
       "28   <?xml version=\"1.0\" encoding=\"utf-8\"?>\\n<LAMMP...   \n",
       "29   <?xml version=\"1.0\" encoding=\"utf-8\"?>\\n<LAMMP...   \n",
       "..                                                 ...   \n",
       "212  <?xml version=\"1.0\" encoding=\"utf-8\"?>\\n<inter...   \n",
       "213  <?xml version=\"1.0\" encoding=\"utf-8\"?>\\n<inter...   \n",
       "214  <?xml version=\"1.0\" encoding=\"utf-8\"?>\\n<inter...   \n",
       "215  <?xml version=\"1.0\" encoding=\"utf-8\"?>\\n<inter...   \n",
       "216  <?xml version=\"1.0\" encoding=\"utf-8\"?>\\n<inter...   \n",
       "217  <?xml version=\"1.0\" encoding=\"utf-8\"?>\\n<inter...   \n",
       "218  <?xml version=\"1.0\" encoding=\"utf-8\"?>\\n<inter...   \n",
       "219  <?xml version=\"1.0\" encoding=\"utf-8\"?>\\n<inter...   \n",
       "220  <?xml version=\"1.0\" encoding=\"utf-8\"?>\\n<inter...   \n",
       "221  <?xml version=\"1.0\" encoding=\"utf-8\"?>\\n<inter...   \n",
       "222  <?xml version=\"1.0\" encoding=\"utf-8\"?>\\n<inter...   \n",
       "223  <?xml version=\"1.0\" encoding=\"utf-8\"?>\\n<inter...   \n",
       "224  <?xml version=\"1.0\" encoding=\"utf-8\"?>\\n<inter...   \n",
       "225  <?xml version=\"1.0\" encoding=\"utf-8\"?>\\n<inter...   \n",
       "226  <?xml version=\"1.0\" encoding=\"utf-8\"?>\\n<inter...   \n",
       "227  <?xml version=\"1.0\" encoding=\"utf-8\"?>\\n<inter...   \n",
       "228  <?xml version=\"1.0\" encoding=\"utf-8\"?>\\n<inter...   \n",
       "229  <?xml version=\"1.0\" encoding=\"utf-8\"?>\\n<inter...   \n",
       "230  <?xml version=\"1.0\" encoding=\"utf-8\"?>\\n<inter...   \n",
       "231  <?xml version=\"1.0\" encoding=\"utf-8\"?>\\n<inter...   \n",
       "232  <?xml version=\"1.0\" encoding=\"utf-8\"?>\\n<inter...   \n",
       "233  <?xml version=\"1.0\" encoding=\"utf-8\"?>\\n<inter...   \n",
       "234  <?xml version=\"1.0\" encoding=\"utf-8\"?>\\n<inter...   \n",
       "235  <?xml version=\"1.0\" encoding=\"utf-8\"?>\\n<inter...   \n",
       "236  <?xml version=\"1.0\" encoding=\"utf-8\"?>\\n<micro...   \n",
       "237  <?xml version=\"1.0\" encoding=\"utf-8\"?>\\n<inter...   \n",
       "238  <?xml version=\"1.0\" encoding=\"utf-8\"?>\\n<inter...   \n",
       "239  <?xml version=\"1.0\" encoding=\"utf-8\"?>\\n<inter...   \n",
       "240  <?xml version=\"1.0\" encoding=\"utf-8\"?>\\n<inter...   \n",
       "241  <?xml version=\"1.0\" encoding=\"utf-8\"?>\\n<calcu...   \n",
       "\n",
       "                       schema                                            title  \n",
       "0    5723b6f92403f03d834cfbcf                                  JARVIS-one-demo  \n",
       "1    56d45ae62403f01fe9027216                          1985--Foiles-S-M--Ni-Cu  \n",
       "2    56d45ae62403f01fe9027216                            1987--Ackland-G-J--Ag  \n",
       "3    56d45ae62403f01fe9027216                            1987--Ackland-G-J--Au  \n",
       "4    56d45ae62403f01fe9027216                            1987--Ackland-G-J--Cu  \n",
       "5    56d45ae62403f01fe9027216                            1987--Ackland-G-J--Mo  \n",
       "6    56d45ae62403f01fe9027216                            1987--Ackland-G-J--Ni  \n",
       "7    56d45ae62403f01fe9027216                              1989--Adams-J-B--Ag  \n",
       "8    56d45ae62403f01fe9027216                              1989--Adams-J-B--Au  \n",
       "9    56d45ae62403f01fe9027216                              1989--Adams-J-B--Cu  \n",
       "10   56d45ae62403f01fe9027216                              1989--Adams-J-B--Ni  \n",
       "11   56d45ae62403f01fe9027216                              1989--Adams-J-B--Pd  \n",
       "12   56d45ae62403f01fe9027216                              1989--Adams-J-B--Pt  \n",
       "13   56d45ae62403f01fe9027216                            1992--Ackland-G-J--Ti  \n",
       "14   56d45ae62403f01fe9027216                        1995--Angelo-J-E--Ni-Al-H  \n",
       "15   56d45ae62403f01fe9027216                         1996--Farkas-D--Nb-Ti-Al  \n",
       "16   56d45ae62403f01fe9027216                            1997--Ackland-G-J--Fe  \n",
       "17   56d45ae62403f01fe9027216                             1997--Liu-X-Y--Al-Mg  \n",
       "18   56d45ae62403f01fe9027216                               1999--Mishin-Y--Al  \n",
       "19   56d45ae62403f01fe9027216                               1999--Mishin-Y--Ni  \n",
       "20   56d45ae62403f01fe9027216                             2000--Landa-A--Al-Pb  \n",
       "21   56d45ae62403f01fe9027216                           2000--Sturgeon-J-B--Al  \n",
       "22   56d45ae62403f01fe9027216                             2001--Mishin-Y--Cu-1  \n",
       "23   56d45ae62403f01fe9027216                            2002--Mishin-Y--Ni-Al  \n",
       "24   56d45ae62403f01fe9027216                             2003--Ackland-G-J--W  \n",
       "25   56d45ae62403f01fe9027216                            2003--Hoyt-J-J--Cu-Pb  \n",
       "26   56d45ae62403f01fe9027216                                 2003--Li-Y-H--Ta  \n",
       "27   56d45ae62403f01fe9027216                         2003--Mendelev-M-I--Fe-2  \n",
       "28   56d45ae62403f01fe9027216                         2003--Mendelev-M-I--Fe-5  \n",
       "29   56d45ae62403f01fe9027216                               2003--Zope-R-R--Al  \n",
       "..                        ...                                              ...  \n",
       "212  573b10a12403f020621654a5           potential.2013--Henriksson-K-O-E--Fe-C  \n",
       "213  573b10a12403f020621654a5                     potential.2013--Ravelo-R--Ta  \n",
       "214  573b10a12403f020621654a5            potential.2013--Smirnova-D-E--U-Mo-Xe  \n",
       "215  573b10a12403f020621654a5       potential.2013--Zhou-X-W--Zn-Cd-Hg-S-Se-Te  \n",
       "216  573b10a12403f020621654a5                 potential.2014--Alexander-E--UO2  \n",
       "217  573b10a12403f020621654a5                  potential.2014--Bonny-G--W-H-He  \n",
       "218  573b10a12403f020621654a5     potential.2014--Fernandez-J-R-Pascuet-M-I--U  \n",
       "219  573b10a12403f020621654a5             potential.2014--Liyanage-L-S-I--Fe-C  \n",
       "220  573b10a12403f020621654a5                 potential.2014--Nouranian-S--C-H  \n",
       "221  573b10a12403f020621654a5                        potential.2014--Wang-J--W  \n",
       "222  573b10a12403f020621654a5        potential.2015--Borovikov-V--Fictional-Cu  \n",
       "223  573b10a12403f020621654a5                  potential.2015--Eich-S-M--Fe-Cr  \n",
       "224  573b10a12403f020621654a5              potential.2015--Mendelev-M-I--Al-Sm  \n",
       "225  573b10a12403f020621654a5       potential.2015--Mendelev-M-I--Fictional-Cu  \n",
       "226  573b10a12403f020621654a5       potential.2015--Mendelev-M-I--Fictional-Mg  \n",
       "227  573b10a12403f020621654a5        potential.2015--Mendelev-M-I--Fictional-W  \n",
       "228  573b10a12403f020621654a5                 potential.2015--Mendelev-M-I--Mg  \n",
       "229  573b10a12403f020621654a5                  potential.2015--Moore-A-P--U-Zr  \n",
       "230  573b10a12403f020621654a5  potential.2015--Pascuet-M-I-Fernandez-J-R--Al-U  \n",
       "231  573b10a12403f020621654a5    potential.2015--Pascuet-M-I-Fernandez-J-R--Al  \n",
       "232  573b10a12403f020621654a5             potential.2015--Purja-Pun-G-P--Cu-Ta  \n",
       "233  573b10a12403f020621654a5         potential.2015--Wilson-S-R--Fictional-Na  \n",
       "234  573b10a12403f020621654a5                   potential.2015--Wilson-S-R--Na  \n",
       "235  573b10a12403f020621654a5                potential.2015--Wilson-S-R--Ni-Zr  \n",
       "236  573f0c9d2403f0345aec0678                                         demo.xml  \n",
       "237  573b10a12403f020621654a5             potential.2015--Purja-Pun-G-P--Ni-Co  \n",
       "238  573b10a12403f020621654a5          potential.2015--Purja-Pun-G-P--Ni-Al-Co  \n",
       "239  573b10a12403f020621654a5             potential.2015--Purja-Pun-G-P--Al-Co  \n",
       "240  573b10a12403f020621654a5                    potential.2016--Zhang-P--Ti-O  \n",
       "241  57a0fab62403f018a9084c3b                                     test xsd any  \n",
       "\n",
       "[242 rows x 4 columns]"
      ]
     },
     "execution_count": 9,
     "metadata": {},
     "output_type": "execute_result"
    }
   ],
   "source": [
    "iprhub.records"
   ]
  },
  {
   "cell_type": "markdown",
   "metadata": {},
   "source": [
    "### Finding a Specific Record\n",
    "\n",
    "The get_record() method can be used for locating a specific record. Returns the Series of the matching record. Issues an error if exactly one matching record is not found. \n",
    "\n",
    "If any of the following keyword arguments are given, the returned template must have matching corresponding values for the terms.\n",
    "\n",
    "Keyword arguments are:\n",
    "\n",
    "- title = name or id associated with the record.\n",
    "\n",
    "- template = template (schema) associated with the record. Can be title, filename, id or Series representation of a template."
   ]
  },
  {
   "cell_type": "markdown",
   "metadata": {},
   "source": [
    "#### Call get_record with title only"
   ]
  },
  {
   "cell_type": "code",
   "execution_count": 9,
   "metadata": {
    "collapsed": false
   },
   "outputs": [
    {
     "data": {
      "text/plain": [
       "_id                                 585af1f02403f01fb735c848\n",
       "content    <?xml version=\"1.0\" encoding=\"utf-8\"?>\\n<LAMMP...\n",
       "schema                              585af0502403f01fb735c821\n",
       "title                                  1987--Ackland-G-J--Cu\n",
       "Name: 163, dtype: object"
      ]
     },
     "execution_count": 9,
     "metadata": {},
     "output_type": "execute_result"
    }
   ],
   "source": [
    "iprhub.get_record('1987--Ackland-G-J--Cu')"
   ]
  },
  {
   "cell_type": "markdown",
   "metadata": {},
   "source": [
    "#### Call get_record with title and template"
   ]
  },
  {
   "cell_type": "code",
   "execution_count": 10,
   "metadata": {
    "collapsed": false
   },
   "outputs": [
    {
     "data": {
      "text/plain": [
       "_id                                 573b33792403f020621655b5\n",
       "content    <?xml version=\"1.0\" encoding=\"utf-8\"?>\\n<inter...\n",
       "schema                              573b10a12403f020621654a5\n",
       "title                    potential.2015--Mendelev-M-I--Al-Sm\n",
       "Name: 123, dtype: object"
      ]
     },
     "execution_count": 10,
     "metadata": {},
     "output_type": "execute_result"
    }
   ],
   "source": [
    "iprhub.get_record(title =    'potential.2015--Mendelev-M-I--Al-Sm', \n",
    "                  template = 'record-interatomic-potential')"
   ]
  },
  {
   "cell_type": "markdown",
   "metadata": {},
   "source": [
    "## Refresh the Local Information\n",
    "\n",
    "The DataFrames for the types, templates and records can be rebuilt by calling the refresh method. This is useful if external changes are made to the curator."
   ]
  },
  {
   "cell_type": "code",
   "execution_count": 11,
   "metadata": {
    "collapsed": true
   },
   "outputs": [],
   "source": [
    "local.refresh()"
   ]
  },
  {
   "cell_type": "markdown",
   "metadata": {},
   "source": [
    "## Adding Templates and Types\n",
    "\n",
    "Templates and types can be easily added using the add_template() and add_xsd_type() methods.  Both functions work nearly identically.\n",
    "\n",
    "Keyword arguments for both methods:\n",
    "\n",
    "- filename = path to file being loaded.\n",
    "\n",
    "- title = name to assign to template/type. If not given, then the filename minus extension is used.\n",
    "\n",
    "- version = version number.\n",
    "\n",
    "- dependencies = list of types that are required by the file being loaded. Each item can be identified by the type's filename, id, title, or as a Pandas Series.\n",
    "\n",
    "- refresh = Boolean indicating if refresh() is called automatically. Default is True.\n",
    "\n",
    "It will not add if the title and version of the template/type match with an existing template/type."
   ]
  },
  {
   "cell_type": "markdown",
   "metadata": {},
   "source": [
    "#### Call add_xsd_type with an already existing title and version"
   ]
  },
  {
   "cell_type": "code",
   "execution_count": 13,
   "metadata": {
    "collapsed": false
   },
   "outputs": [
    {
     "name": "stdout",
     "output_type": "stream",
     "text": [
      "Matching xsd_type title and version already in curator\n"
     ]
    }
   ],
   "source": [
    "local.add_xsd_type('demo_files/uncertainty.xsd', title='uncertainty')"
   ]
  },
  {
   "cell_type": "markdown",
   "metadata": {},
   "source": [
    "#### Call add_xsd_type again with a new name"
   ]
  },
  {
   "cell_type": "code",
   "execution_count": 15,
   "metadata": {
    "collapsed": false
   },
   "outputs": [
    {
     "name": "stdout",
     "output_type": "stream",
     "text": [
      "uploading newt-uncertainty\n"
     ]
    }
   ],
   "source": [
    "local.add_xsd_type('demo_files/uncertainty.xsd', title='newt-uncertainty')"
   ]
  },
  {
   "cell_type": "markdown",
   "metadata": {},
   "source": [
    "#### Show that new type exists"
   ]
  },
  {
   "cell_type": "code",
   "execution_count": 16,
   "metadata": {
    "collapsed": false
   },
   "outputs": [
    {
     "data": {
      "text/plain": [
       "content         <?xml version=\"1.0\" encoding=\"UTF-8\" standalon...\n",
       "dependencies                                                   []\n",
       "filename                                          uncertainty.xsd\n",
       "hash                     3db5ac62b1aaf1d844e630de15aa0a84b37da39a\n",
       "id                                       5849dffed92ecc2710eed948\n",
       "title                                            newt-uncertainty\n",
       "typeVersion                              5849dffed92ecc2710eed947\n",
       "version                                                         1\n",
       "Name: 20, dtype: object"
      ]
     },
     "execution_count": 16,
     "metadata": {},
     "output_type": "execute_result"
    }
   ],
   "source": [
    "local.get_xsd_type('newt-uncertainty')"
   ]
  },
  {
   "cell_type": "markdown",
   "metadata": {},
   "source": [
    "## Deleting and Restoring Templates and Types\n",
    "\n",
    "There are also methods delete_template(), delete_xsd_type(), restore_template(), restore_xsd_type() that delete and restore templates and types, but these behaviors don't do much with the current version of the curator."
   ]
  },
  {
   "cell_type": "markdown",
   "metadata": {},
   "source": [
    "## Adding Records\n",
    "\n",
    "A record can be added using the add_record() method. \n",
    "\n",
    "Arguments of the function are:\n",
    "\n",
    "- content = string representation of an xml record, or the path to an xml file.\n",
    "\n",
    "- title = name to give the record.\n",
    "\n",
    "- template = schema template that the record is validated against.  Can be title, filename, id or Series representation of a template.\n",
    "\n",
    "Keyword argument:\n",
    "\n",
    "- refresh = Boolean indicating if refresh() is called automatically. Default is True."
   ]
  },
  {
   "cell_type": "markdown",
   "metadata": {},
   "source": [
    "#### Add a record"
   ]
  },
  {
   "cell_type": "code",
   "execution_count": 17,
   "metadata": {
    "collapsed": false
   },
   "outputs": [
    {
     "data": {
      "text/html": [
       "<div>\n",
       "<table border=\"1\" class=\"dataframe\">\n",
       "  <thead>\n",
       "    <tr style=\"text-align: right;\">\n",
       "      <th></th>\n",
       "      <th>_id</th>\n",
       "      <th>content</th>\n",
       "      <th>schema</th>\n",
       "      <th>title</th>\n",
       "    </tr>\n",
       "  </thead>\n",
       "  <tbody>\n",
       "    <tr>\n",
       "      <th>0</th>\n",
       "      <td>57b346dad92ecc10c8803349</td>\n",
       "      <td>&lt;?xml version=\"1.0\" encoding=\"utf-8\"?&gt;\\n&lt;LAMMP...</td>\n",
       "      <td>57b338f0d92ecc10c8803344</td>\n",
       "      <td>1985--Foiles-S-M--Ni-Cu</td>\n",
       "    </tr>\n",
       "    <tr>\n",
       "      <th>1</th>\n",
       "      <td>5849e007d92ecc2710eed949</td>\n",
       "      <td>&lt;?xml version=\"1.0\" encoding=\"utf-8\"?&gt;\\n&lt;LAMMP...</td>\n",
       "      <td>57b338f0d92ecc10c8803344</td>\n",
       "      <td>1987--Ackland-G-J--Ag</td>\n",
       "    </tr>\n",
       "  </tbody>\n",
       "</table>\n",
       "</div>"
      ],
      "text/plain": [
       "                        _id  \\\n",
       "0  57b346dad92ecc10c8803349   \n",
       "1  5849e007d92ecc2710eed949   \n",
       "\n",
       "                                             content  \\\n",
       "0  <?xml version=\"1.0\" encoding=\"utf-8\"?>\\n<LAMMP...   \n",
       "1  <?xml version=\"1.0\" encoding=\"utf-8\"?>\\n<LAMMP...   \n",
       "\n",
       "                     schema                    title  \n",
       "0  57b338f0d92ecc10c8803344  1985--Foiles-S-M--Ni-Cu  \n",
       "1  57b338f0d92ecc10c8803344    1987--Ackland-G-J--Ag  "
      ]
     },
     "execution_count": 17,
     "metadata": {},
     "output_type": "execute_result"
    }
   ],
   "source": [
    "local.add_record('demo_files/1987--Ackland-G-J--Ag.xml', '1987--Ackland-G-J--Ag', 'LAMMPS-potential')\n",
    "local.records"
   ]
  },
  {
   "cell_type": "markdown",
   "metadata": {},
   "source": [
    "## Modifying Records\n",
    "\n",
    "Records can be modified with the update_record() method. Note that the corresponding \\_id will change as this deletes the old record and adds a new one in its place.\n",
    "\n",
    "Arguments:\n",
    "\n",
    "- record = existing record to replace. This can be the record's title, \\_id, or a Series representation.\n",
    "\n",
    "- content =  string representation of an xml record, or the path to an xml file with the new content.\n",
    "\n",
    "Keyword argument:\n",
    "\n",
    "- refresh = Boolean indicating if refresh() is called automatically. Default is True."
   ]
  },
  {
   "cell_type": "markdown",
   "metadata": {},
   "source": [
    "#### View existing content"
   ]
  },
  {
   "cell_type": "code",
   "execution_count": 18,
   "metadata": {
    "collapsed": false
   },
   "outputs": [
    {
     "name": "stdout",
     "output_type": "stream",
     "text": [
      "<?xml version=\"1.0\" encoding=\"utf-8\"?>\n",
      "<LAMMPS-potential><potential><key>dc4149ce-3592-4131-8683-ecf654d5a519</key><id>1987--Ackland-G-J--Ag</id></potential><units>metal</units><atom_style>atomic</atom_style><atom><element>Ag</element><mass>107.8682</mass></atom><pair_style><type>eam/fs</type></pair_style><pair_coeff><term><file>Ag.eam.fs</file></term><term><symbols>True</symbols></term></pair_coeff></LAMMPS-potential>\n"
     ]
    }
   ],
   "source": [
    "record = local.get_record('1987--Ackland-G-J--Ag').content\n",
    "print record"
   ]
  },
  {
   "cell_type": "markdown",
   "metadata": {},
   "source": [
    "#### Modify content and update"
   ]
  },
  {
   "cell_type": "code",
   "execution_count": 19,
   "metadata": {
    "collapsed": false
   },
   "outputs": [
    {
     "data": {
      "text/html": [
       "<div>\n",
       "<table border=\"1\" class=\"dataframe\">\n",
       "  <thead>\n",
       "    <tr style=\"text-align: right;\">\n",
       "      <th></th>\n",
       "      <th>_id</th>\n",
       "      <th>content</th>\n",
       "      <th>schema</th>\n",
       "      <th>title</th>\n",
       "    </tr>\n",
       "  </thead>\n",
       "  <tbody>\n",
       "    <tr>\n",
       "      <th>0</th>\n",
       "      <td>57b346dad92ecc10c8803349</td>\n",
       "      <td>&lt;?xml version=\"1.0\" encoding=\"utf-8\"?&gt;\\n&lt;LAMMP...</td>\n",
       "      <td>57b338f0d92ecc10c8803344</td>\n",
       "      <td>1985--Foiles-S-M--Ni-Cu</td>\n",
       "    </tr>\n",
       "    <tr>\n",
       "      <th>1</th>\n",
       "      <td>5849e00cd92ecc2710eed94a</td>\n",
       "      <td>&lt;?xml version=\"1.0\" encoding=\"utf-8\"?&gt;\\n&lt;LAMMP...</td>\n",
       "      <td>57b338f0d92ecc10c8803344</td>\n",
       "      <td>1987--Ackland-G-J--Ag</td>\n",
       "    </tr>\n",
       "  </tbody>\n",
       "</table>\n",
       "</div>"
      ],
      "text/plain": [
       "                        _id  \\\n",
       "0  57b346dad92ecc10c8803349   \n",
       "1  5849e00cd92ecc2710eed94a   \n",
       "\n",
       "                                             content  \\\n",
       "0  <?xml version=\"1.0\" encoding=\"utf-8\"?>\\n<LAMMP...   \n",
       "1  <?xml version=\"1.0\" encoding=\"utf-8\"?>\\n<LAMMP...   \n",
       "\n",
       "                     schema                    title  \n",
       "0  57b338f0d92ecc10c8803344  1985--Foiles-S-M--Ni-Cu  \n",
       "1  57b338f0d92ecc10c8803344    1987--Ackland-G-J--Ag  "
      ]
     },
     "execution_count": 19,
     "metadata": {},
     "output_type": "execute_result"
    }
   ],
   "source": [
    "new_record = record.replace('<mass>107.8682</mass>', '<mass>107.9</mass>')\n",
    "local.update_record('1987--Ackland-G-J--Ag', new_record)\n",
    "local.records"
   ]
  },
  {
   "cell_type": "markdown",
   "metadata": {},
   "source": [
    "#### Check that content has changed"
   ]
  },
  {
   "cell_type": "code",
   "execution_count": 20,
   "metadata": {
    "collapsed": false
   },
   "outputs": [
    {
     "name": "stdout",
     "output_type": "stream",
     "text": [
      "<?xml version=\"1.0\" encoding=\"utf-8\"?>\n",
      "<LAMMPS-potential><potential><key>dc4149ce-3592-4131-8683-ecf654d5a519</key><id>1987--Ackland-G-J--Ag</id></potential><units>metal</units><atom_style>atomic</atom_style><atom><element>Ag</element><mass>107.9</mass></atom><pair_style><type>eam/fs</type></pair_style><pair_coeff><term><file>Ag.eam.fs</file></term><term><symbols>True</symbols></term></pair_coeff></LAMMPS-potential>\n"
     ]
    }
   ],
   "source": [
    "record = local.get_record('1987--Ackland-G-J--Ag').content\n",
    "print record"
   ]
  },
  {
   "cell_type": "markdown",
   "metadata": {},
   "source": [
    "## Deleting A Record\n",
    "\n",
    "An unwanted record can be deleted using the delete_record() method.\n",
    "\n",
    "Arguments:\n",
    "\n",
    "- record = existing record to delete. This can be the record's title, \\_id, or a Series representation.\n",
    "\n",
    "Keyword argument:\n",
    "\n",
    "- refresh = Boolean indicating if refresh() is called automatically. Default is True."
   ]
  },
  {
   "cell_type": "markdown",
   "metadata": {},
   "source": [
    "#### Delete the recently added record"
   ]
  },
  {
   "cell_type": "code",
   "execution_count": 21,
   "metadata": {
    "collapsed": false
   },
   "outputs": [
    {
     "data": {
      "text/html": [
       "<div>\n",
       "<table border=\"1\" class=\"dataframe\">\n",
       "  <thead>\n",
       "    <tr style=\"text-align: right;\">\n",
       "      <th></th>\n",
       "      <th>_id</th>\n",
       "      <th>content</th>\n",
       "      <th>schema</th>\n",
       "      <th>title</th>\n",
       "    </tr>\n",
       "  </thead>\n",
       "  <tbody>\n",
       "    <tr>\n",
       "      <th>0</th>\n",
       "      <td>57b346dad92ecc10c8803349</td>\n",
       "      <td>&lt;?xml version=\"1.0\" encoding=\"utf-8\"?&gt;\\n&lt;LAMMP...</td>\n",
       "      <td>57b338f0d92ecc10c8803344</td>\n",
       "      <td>1985--Foiles-S-M--Ni-Cu</td>\n",
       "    </tr>\n",
       "  </tbody>\n",
       "</table>\n",
       "</div>"
      ],
      "text/plain": [
       "                        _id  \\\n",
       "0  57b346dad92ecc10c8803349   \n",
       "\n",
       "                                             content  \\\n",
       "0  <?xml version=\"1.0\" encoding=\"utf-8\"?>\\n<LAMMP...   \n",
       "\n",
       "                     schema                    title  \n",
       "0  57b338f0d92ecc10c8803344  1985--Foiles-S-M--Ni-Cu  "
      ]
     },
     "execution_count": 21,
     "metadata": {},
     "output_type": "execute_result"
    }
   ],
   "source": [
    "local.delete_record('1987--Ackland-G-J--Ag')\n",
    "local.records"
   ]
  },
  {
   "cell_type": "markdown",
   "metadata": {
    "collapsed": true
   },
   "source": [
    "## Add Other Files (blobs)\n",
    "\n",
    "Non-record files can also be stored on the curator as blobs. These can be added with the add_file() method.\n",
    "\n",
    "Argument:\n",
    "\n",
    "- filename = path to the file to upload.\n",
    "\n",
    "Returns the url that can be used to download the file later."
   ]
  },
  {
   "cell_type": "code",
   "execution_count": 22,
   "metadata": {
    "collapsed": false
   },
   "outputs": [
    {
     "name": "stdout",
     "output_type": "stream",
     "text": [
      "http://127.0.0.1:8000/rest/blob?id=5849e010d92ecc2710eed94b\n"
     ]
    }
   ],
   "source": [
    "file_url = local.add_file('demo_files/test.txt')\n",
    "print file_url"
   ]
  },
  {
   "cell_type": "markdown",
   "metadata": {
    "collapsed": true
   },
   "source": [
    "## Large Repository Tips\n",
    "\n",
    "When working with large repositories or a large number of records, it would be inefficient to download all records and to refresh everytime records are added or changed. This section details the options that can be done to reduce the local overhead involved for those cases."
   ]
  },
  {
   "cell_type": "markdown",
   "metadata": {},
   "source": [
    "### Initialize without building records\n",
    "\n",
    "Setting records_fetch=False during initialization will build the templates/types but not the records. \n",
    "\n",
    "__NOTE:__ accessing records will cause it to be built if it doesn't exist yet."
   ]
  },
  {
   "cell_type": "markdown",
   "metadata": {},
   "source": [
    "#### Reinitialize iprhub"
   ]
  },
  {
   "cell_type": "code",
   "execution_count": 12,
   "metadata": {
    "collapsed": false
   },
   "outputs": [
    {
     "name": "stdout",
     "output_type": "stream",
     "text": [
      "1.60799980164 seconds\n"
     ]
    }
   ],
   "source": [
    "start = time.time()\n",
    "iprhub = mdcs.MDCS(host='https://iprhub.nist.gov/', \n",
    "                   user='lmh1',\n",
    "                   pswd='C:/users/lmh1/documents/iprhub/iprhub_password.txt',\n",
    "                   cert='C:/users/lmh1/documents/iprhub/iprhub-ca.pem')\n",
    "end = time.time()\n",
    "print end-start, 'seconds'"
   ]
  },
  {
   "cell_type": "markdown",
   "metadata": {},
   "source": [
    "#### Reinitialize iprhub without loading records"
   ]
  },
  {
   "cell_type": "code",
   "execution_count": 13,
   "metadata": {
    "collapsed": false
   },
   "outputs": [
    {
     "name": "stdout",
     "output_type": "stream",
     "text": [
      "0.617000102997 seconds\n"
     ]
    }
   ],
   "source": [
    "start = time.time()\n",
    "iprhub = mdcs.MDCS(host='https://iprhub.nist.gov/', \n",
    "                   user='lmh1',\n",
    "                   pswd='C:/users/lmh1/documents/iprhub/iprhub_password.txt',\n",
    "                   cert='C:/users/lmh1/documents/iprhub/iprhub-ca.pem',\n",
    "                   records_fetch=False)\n",
    "end = time.time()\n",
    "print end-start, 'seconds'"
   ]
  },
  {
   "cell_type": "markdown",
   "metadata": {},
   "source": [
    "### Build records with limiters\n",
    "\n",
    "The build_records() method can be used to then build the records DataFrame with only a selection of the curator's records.\n",
    "\n",
    "Keyword arguments:\n",
    "\n",
    "- format = file format to access. Values are xml or json.\n",
    "\n",
    "- id = record id to limit to.\n",
    "\n",
    "- template = template of records to include. Can be title, filename, id or Series representation of a template.\n",
    "\n",
    "- title = record title to limit to.\n",
    "\n",
    "Given the current options, this is really only good for curators with a large number of templates in that you can specifically limit your search to one template."
   ]
  },
  {
   "cell_type": "markdown",
   "metadata": {},
   "source": [
    "#### Retrieve only records for the record-interatomic-potential template"
   ]
  },
  {
   "cell_type": "code",
   "execution_count": 14,
   "metadata": {
    "collapsed": false
   },
   "outputs": [
    {
     "data": {
      "text/html": [
       "<div>\n",
       "<table border=\"1\" class=\"dataframe\">\n",
       "  <thead>\n",
       "    <tr style=\"text-align: right;\">\n",
       "      <th></th>\n",
       "      <th>_id</th>\n",
       "      <th>content</th>\n",
       "      <th>schema</th>\n",
       "      <th>title</th>\n",
       "    </tr>\n",
       "  </thead>\n",
       "  <tbody>\n",
       "    <tr>\n",
       "      <th>0</th>\n",
       "      <td>573b33512403f0206216553b</td>\n",
       "      <td>&lt;?xml version=\"1.0\" encoding=\"utf-8\"?&gt;\\n&lt;inter...</td>\n",
       "      <td>573b10a12403f020621654a5</td>\n",
       "      <td>potential.1985--Foiles-S-M--Ni-Cu</td>\n",
       "    </tr>\n",
       "    <tr>\n",
       "      <th>1</th>\n",
       "      <td>573b33522403f0206216553c</td>\n",
       "      <td>&lt;?xml version=\"1.0\" encoding=\"utf-8\"?&gt;\\n&lt;inter...</td>\n",
       "      <td>573b10a12403f020621654a5</td>\n",
       "      <td>potential.1987--Ackland-G-J--Ag</td>\n",
       "    </tr>\n",
       "    <tr>\n",
       "      <th>2</th>\n",
       "      <td>573b33522403f0206216553d</td>\n",
       "      <td>&lt;?xml version=\"1.0\" encoding=\"utf-8\"?&gt;\\n&lt;inter...</td>\n",
       "      <td>573b10a12403f020621654a5</td>\n",
       "      <td>potential.1987--Ackland-G-J--Au</td>\n",
       "    </tr>\n",
       "    <tr>\n",
       "      <th>3</th>\n",
       "      <td>573b33522403f0206216553e</td>\n",
       "      <td>&lt;?xml version=\"1.0\" encoding=\"utf-8\"?&gt;\\n&lt;inter...</td>\n",
       "      <td>573b10a12403f020621654a5</td>\n",
       "      <td>potential.1987--Ackland-G-J--Cu</td>\n",
       "    </tr>\n",
       "    <tr>\n",
       "      <th>4</th>\n",
       "      <td>573b33532403f0206216553f</td>\n",
       "      <td>&lt;?xml version=\"1.0\" encoding=\"utf-8\"?&gt;\\n&lt;inter...</td>\n",
       "      <td>573b10a12403f020621654a5</td>\n",
       "      <td>potential.1987--Ackland-G-J--Mo</td>\n",
       "    </tr>\n",
       "    <tr>\n",
       "      <th>5</th>\n",
       "      <td>573b33532403f02062165540</td>\n",
       "      <td>&lt;?xml version=\"1.0\" encoding=\"utf-8\"?&gt;\\n&lt;inter...</td>\n",
       "      <td>573b10a12403f020621654a5</td>\n",
       "      <td>potential.1987--Ackland-G-J--Nb</td>\n",
       "    </tr>\n",
       "    <tr>\n",
       "      <th>6</th>\n",
       "      <td>573b33532403f02062165541</td>\n",
       "      <td>&lt;?xml version=\"1.0\" encoding=\"utf-8\"?&gt;\\n&lt;inter...</td>\n",
       "      <td>573b10a12403f020621654a5</td>\n",
       "      <td>potential.1987--Ackland-G-J--Ni</td>\n",
       "    </tr>\n",
       "    <tr>\n",
       "      <th>7</th>\n",
       "      <td>573b33542403f02062165542</td>\n",
       "      <td>&lt;?xml version=\"1.0\" encoding=\"utf-8\"?&gt;\\n&lt;inter...</td>\n",
       "      <td>573b10a12403f020621654a5</td>\n",
       "      <td>potential.1987--Ackland-G-J--Ta</td>\n",
       "    </tr>\n",
       "    <tr>\n",
       "      <th>8</th>\n",
       "      <td>573b33542403f02062165543</td>\n",
       "      <td>&lt;?xml version=\"1.0\" encoding=\"utf-8\"?&gt;\\n&lt;inter...</td>\n",
       "      <td>573b10a12403f020621654a5</td>\n",
       "      <td>potential.1987--Ackland-G-J--V</td>\n",
       "    </tr>\n",
       "    <tr>\n",
       "      <th>9</th>\n",
       "      <td>573b33542403f02062165544</td>\n",
       "      <td>&lt;?xml version=\"1.0\" encoding=\"utf-8\"?&gt;\\n&lt;inter...</td>\n",
       "      <td>573b10a12403f020621654a5</td>\n",
       "      <td>potential.1987--Ackland-G-J--W</td>\n",
       "    </tr>\n",
       "    <tr>\n",
       "      <th>10</th>\n",
       "      <td>573b33552403f02062165545</td>\n",
       "      <td>&lt;?xml version=\"1.0\" encoding=\"utf-8\"?&gt;\\n&lt;inter...</td>\n",
       "      <td>573b10a12403f020621654a5</td>\n",
       "      <td>potential.1989--Adams-J-B--Ag</td>\n",
       "    </tr>\n",
       "    <tr>\n",
       "      <th>11</th>\n",
       "      <td>573b33552403f02062165546</td>\n",
       "      <td>&lt;?xml version=\"1.0\" encoding=\"utf-8\"?&gt;\\n&lt;inter...</td>\n",
       "      <td>573b10a12403f020621654a5</td>\n",
       "      <td>potential.1989--Adams-J-B--Au</td>\n",
       "    </tr>\n",
       "    <tr>\n",
       "      <th>12</th>\n",
       "      <td>573b33552403f02062165547</td>\n",
       "      <td>&lt;?xml version=\"1.0\" encoding=\"utf-8\"?&gt;\\n&lt;inter...</td>\n",
       "      <td>573b10a12403f020621654a5</td>\n",
       "      <td>potential.1989--Adams-J-B--Cu</td>\n",
       "    </tr>\n",
       "    <tr>\n",
       "      <th>13</th>\n",
       "      <td>573b33562403f02062165548</td>\n",
       "      <td>&lt;?xml version=\"1.0\" encoding=\"utf-8\"?&gt;\\n&lt;inter...</td>\n",
       "      <td>573b10a12403f020621654a5</td>\n",
       "      <td>potential.1989--Adams-J-B--Ni</td>\n",
       "    </tr>\n",
       "    <tr>\n",
       "      <th>14</th>\n",
       "      <td>573b33562403f02062165549</td>\n",
       "      <td>&lt;?xml version=\"1.0\" encoding=\"utf-8\"?&gt;\\n&lt;inter...</td>\n",
       "      <td>573b10a12403f020621654a5</td>\n",
       "      <td>potential.1989--Adams-J-B--Pd</td>\n",
       "    </tr>\n",
       "    <tr>\n",
       "      <th>15</th>\n",
       "      <td>573b33562403f0206216554a</td>\n",
       "      <td>&lt;?xml version=\"1.0\" encoding=\"utf-8\"?&gt;\\n&lt;inter...</td>\n",
       "      <td>573b10a12403f020621654a5</td>\n",
       "      <td>potential.1989--Adams-J-B--Pt</td>\n",
       "    </tr>\n",
       "    <tr>\n",
       "      <th>16</th>\n",
       "      <td>573b33572403f0206216554b</td>\n",
       "      <td>&lt;?xml version=\"1.0\" encoding=\"utf-8\"?&gt;\\n&lt;inter...</td>\n",
       "      <td>573b10a12403f020621654a5</td>\n",
       "      <td>potential.1990--Ackland-G-J--Pt</td>\n",
       "    </tr>\n",
       "    <tr>\n",
       "      <th>17</th>\n",
       "      <td>573b33572403f0206216554c</td>\n",
       "      <td>&lt;?xml version=\"1.0\" encoding=\"utf-8\"?&gt;\\n&lt;inter...</td>\n",
       "      <td>573b10a12403f020621654a5</td>\n",
       "      <td>potential.1992--Ackland-G-J--Ti</td>\n",
       "    </tr>\n",
       "    <tr>\n",
       "      <th>18</th>\n",
       "      <td>573b33572403f0206216554d</td>\n",
       "      <td>&lt;?xml version=\"1.0\" encoding=\"utf-8\"?&gt;\\n&lt;inter...</td>\n",
       "      <td>573b10a12403f020621654a5</td>\n",
       "      <td>potential.1992--Baskes-M-I--Si</td>\n",
       "    </tr>\n",
       "    <tr>\n",
       "      <th>19</th>\n",
       "      <td>573b33582403f0206216554e</td>\n",
       "      <td>&lt;?xml version=\"1.0\" encoding=\"utf-8\"?&gt;\\n&lt;inter...</td>\n",
       "      <td>573b10a12403f020621654a5</td>\n",
       "      <td>potential.1995--Ackland-G-J--Zr</td>\n",
       "    </tr>\n",
       "    <tr>\n",
       "      <th>20</th>\n",
       "      <td>573b33582403f0206216554f</td>\n",
       "      <td>&lt;?xml version=\"1.0\" encoding=\"utf-8\"?&gt;\\n&lt;inter...</td>\n",
       "      <td>573b10a12403f020621654a5</td>\n",
       "      <td>potential.1995--Angelo-J-E--Ni-Al-H</td>\n",
       "    </tr>\n",
       "    <tr>\n",
       "      <th>21</th>\n",
       "      <td>573b33582403f02062165550</td>\n",
       "      <td>&lt;?xml version=\"1.0\" encoding=\"utf-8\"?&gt;\\n&lt;inter...</td>\n",
       "      <td>573b10a12403f020621654a5</td>\n",
       "      <td>potential.1996--Farkas-D--Nb-Ti-Al</td>\n",
       "    </tr>\n",
       "    <tr>\n",
       "      <th>22</th>\n",
       "      <td>573b33592403f02062165551</td>\n",
       "      <td>&lt;?xml version=\"1.0\" encoding=\"utf-8\"?&gt;\\n&lt;inter...</td>\n",
       "      <td>573b10a12403f020621654a5</td>\n",
       "      <td>potential.1997--Ackland-G-J--Fe</td>\n",
       "    </tr>\n",
       "    <tr>\n",
       "      <th>23</th>\n",
       "      <td>573b33592403f02062165552</td>\n",
       "      <td>&lt;?xml version=\"1.0\" encoding=\"utf-8\"?&gt;\\n&lt;inter...</td>\n",
       "      <td>573b10a12403f020621654a5</td>\n",
       "      <td>potential.1997--Liu-X-Y--Al-Mg</td>\n",
       "    </tr>\n",
       "    <tr>\n",
       "      <th>24</th>\n",
       "      <td>573b33592403f02062165553</td>\n",
       "      <td>&lt;?xml version=\"1.0\" encoding=\"utf-8\"?&gt;\\n&lt;inter...</td>\n",
       "      <td>573b10a12403f020621654a5</td>\n",
       "      <td>potential.1998--Liu-X-Y--Al-Mg</td>\n",
       "    </tr>\n",
       "    <tr>\n",
       "      <th>25</th>\n",
       "      <td>573b335a2403f02062165554</td>\n",
       "      <td>&lt;?xml version=\"1.0\" encoding=\"utf-8\"?&gt;\\n&lt;inter...</td>\n",
       "      <td>573b10a12403f020621654a5</td>\n",
       "      <td>potential.1999--Liu-X-Y--Al-Cu</td>\n",
       "    </tr>\n",
       "    <tr>\n",
       "      <th>26</th>\n",
       "      <td>573b335a2403f02062165555</td>\n",
       "      <td>&lt;?xml version=\"1.0\" encoding=\"utf-8\"?&gt;\\n&lt;inter...</td>\n",
       "      <td>573b10a12403f020621654a5</td>\n",
       "      <td>potential.1999--Mishin-Y--Al</td>\n",
       "    </tr>\n",
       "    <tr>\n",
       "      <th>27</th>\n",
       "      <td>573b335a2403f02062165556</td>\n",
       "      <td>&lt;?xml version=\"1.0\" encoding=\"utf-8\"?&gt;\\n&lt;inter...</td>\n",
       "      <td>573b10a12403f020621654a5</td>\n",
       "      <td>potential.1999--Mishin-Y--Ni</td>\n",
       "    </tr>\n",
       "    <tr>\n",
       "      <th>28</th>\n",
       "      <td>573b335b2403f02062165557</td>\n",
       "      <td>&lt;?xml version=\"1.0\" encoding=\"utf-8\"?&gt;\\n&lt;inter...</td>\n",
       "      <td>573b10a12403f020621654a5</td>\n",
       "      <td>potential.2000--Landa-A--Al-Pb</td>\n",
       "    </tr>\n",
       "    <tr>\n",
       "      <th>29</th>\n",
       "      <td>573b335b2403f02062165558</td>\n",
       "      <td>&lt;?xml version=\"1.0\" encoding=\"utf-8\"?&gt;\\n&lt;inter...</td>\n",
       "      <td>573b10a12403f020621654a5</td>\n",
       "      <td>potential.2000--Sturgeon-J-B--Al</td>\n",
       "    </tr>\n",
       "    <tr>\n",
       "      <th>...</th>\n",
       "      <td>...</td>\n",
       "      <td>...</td>\n",
       "      <td>...</td>\n",
       "      <td>...</td>\n",
       "    </tr>\n",
       "    <tr>\n",
       "      <th>108</th>\n",
       "      <td>573b33752403f020621655a7</td>\n",
       "      <td>&lt;?xml version=\"1.0\" encoding=\"utf-8\"?&gt;\\n&lt;inter...</td>\n",
       "      <td>573b10a12403f020621654a5</td>\n",
       "      <td>potential.2013--Gao-H--AgTaO3</td>\n",
       "    </tr>\n",
       "    <tr>\n",
       "      <th>109</th>\n",
       "      <td>573b33752403f020621655a8</td>\n",
       "      <td>&lt;?xml version=\"1.0\" encoding=\"utf-8\"?&gt;\\n&lt;inter...</td>\n",
       "      <td>573b10a12403f020621654a5</td>\n",
       "      <td>potential.2013--Hale-L-M--Pd-Ag-H</td>\n",
       "    </tr>\n",
       "    <tr>\n",
       "      <th>110</th>\n",
       "      <td>573b33752403f020621655a9</td>\n",
       "      <td>&lt;?xml version=\"1.0\" encoding=\"utf-8\"?&gt;\\n&lt;inter...</td>\n",
       "      <td>573b10a12403f020621654a5</td>\n",
       "      <td>potential.2013--Henriksson-K-O-E--Fe-C</td>\n",
       "    </tr>\n",
       "    <tr>\n",
       "      <th>111</th>\n",
       "      <td>573b33762403f020621655aa</td>\n",
       "      <td>&lt;?xml version=\"1.0\" encoding=\"utf-8\"?&gt;\\n&lt;inter...</td>\n",
       "      <td>573b10a12403f020621654a5</td>\n",
       "      <td>potential.2013--Ravelo-R--Ta</td>\n",
       "    </tr>\n",
       "    <tr>\n",
       "      <th>112</th>\n",
       "      <td>573b33762403f020621655ab</td>\n",
       "      <td>&lt;?xml version=\"1.0\" encoding=\"utf-8\"?&gt;\\n&lt;inter...</td>\n",
       "      <td>573b10a12403f020621654a5</td>\n",
       "      <td>potential.2013--Smirnova-D-E--U-Mo-Xe</td>\n",
       "    </tr>\n",
       "    <tr>\n",
       "      <th>113</th>\n",
       "      <td>573b33762403f020621655ac</td>\n",
       "      <td>&lt;?xml version=\"1.0\" encoding=\"utf-8\"?&gt;\\n&lt;inter...</td>\n",
       "      <td>573b10a12403f020621654a5</td>\n",
       "      <td>potential.2013--Zhou-X-W--Zn-Cd-Hg-S-Se-Te</td>\n",
       "    </tr>\n",
       "    <tr>\n",
       "      <th>114</th>\n",
       "      <td>573b33772403f020621655ad</td>\n",
       "      <td>&lt;?xml version=\"1.0\" encoding=\"utf-8\"?&gt;\\n&lt;inter...</td>\n",
       "      <td>573b10a12403f020621654a5</td>\n",
       "      <td>potential.2014--Alexander-E--UO2</td>\n",
       "    </tr>\n",
       "    <tr>\n",
       "      <th>115</th>\n",
       "      <td>573b33772403f020621655ae</td>\n",
       "      <td>&lt;?xml version=\"1.0\" encoding=\"utf-8\"?&gt;\\n&lt;inter...</td>\n",
       "      <td>573b10a12403f020621654a5</td>\n",
       "      <td>potential.2014--Bonny-G--W-H-He</td>\n",
       "    </tr>\n",
       "    <tr>\n",
       "      <th>116</th>\n",
       "      <td>573b33772403f020621655af</td>\n",
       "      <td>&lt;?xml version=\"1.0\" encoding=\"utf-8\"?&gt;\\n&lt;inter...</td>\n",
       "      <td>573b10a12403f020621654a5</td>\n",
       "      <td>potential.2014--Fernandez-J-R-Pascuet-M-I--U</td>\n",
       "    </tr>\n",
       "    <tr>\n",
       "      <th>117</th>\n",
       "      <td>573b33782403f020621655b0</td>\n",
       "      <td>&lt;?xml version=\"1.0\" encoding=\"utf-8\"?&gt;\\n&lt;inter...</td>\n",
       "      <td>573b10a12403f020621654a5</td>\n",
       "      <td>potential.2014--Liyanage-L-S-I--Fe-C</td>\n",
       "    </tr>\n",
       "    <tr>\n",
       "      <th>118</th>\n",
       "      <td>573b33782403f020621655b1</td>\n",
       "      <td>&lt;?xml version=\"1.0\" encoding=\"utf-8\"?&gt;\\n&lt;inter...</td>\n",
       "      <td>573b10a12403f020621654a5</td>\n",
       "      <td>potential.2014--Nouranian-S--C-H</td>\n",
       "    </tr>\n",
       "    <tr>\n",
       "      <th>119</th>\n",
       "      <td>573b33782403f020621655b2</td>\n",
       "      <td>&lt;?xml version=\"1.0\" encoding=\"utf-8\"?&gt;\\n&lt;inter...</td>\n",
       "      <td>573b10a12403f020621654a5</td>\n",
       "      <td>potential.2014--Wang-J--W</td>\n",
       "    </tr>\n",
       "    <tr>\n",
       "      <th>120</th>\n",
       "      <td>573b33792403f020621655b3</td>\n",
       "      <td>&lt;?xml version=\"1.0\" encoding=\"utf-8\"?&gt;\\n&lt;inter...</td>\n",
       "      <td>573b10a12403f020621654a5</td>\n",
       "      <td>potential.2015--Borovikov-V--Fictional-Cu</td>\n",
       "    </tr>\n",
       "    <tr>\n",
       "      <th>121</th>\n",
       "      <td>573b33792403f020621655b4</td>\n",
       "      <td>&lt;?xml version=\"1.0\" encoding=\"utf-8\"?&gt;\\n&lt;inter...</td>\n",
       "      <td>573b10a12403f020621654a5</td>\n",
       "      <td>potential.2015--Eich-S-M--Fe-Cr</td>\n",
       "    </tr>\n",
       "    <tr>\n",
       "      <th>122</th>\n",
       "      <td>573b33792403f020621655b5</td>\n",
       "      <td>&lt;?xml version=\"1.0\" encoding=\"utf-8\"?&gt;\\n&lt;inter...</td>\n",
       "      <td>573b10a12403f020621654a5</td>\n",
       "      <td>potential.2015--Mendelev-M-I--Al-Sm</td>\n",
       "    </tr>\n",
       "    <tr>\n",
       "      <th>123</th>\n",
       "      <td>573b337a2403f020621655b6</td>\n",
       "      <td>&lt;?xml version=\"1.0\" encoding=\"utf-8\"?&gt;\\n&lt;inter...</td>\n",
       "      <td>573b10a12403f020621654a5</td>\n",
       "      <td>potential.2015--Mendelev-M-I--Fictional-Cu</td>\n",
       "    </tr>\n",
       "    <tr>\n",
       "      <th>124</th>\n",
       "      <td>573b337a2403f020621655b7</td>\n",
       "      <td>&lt;?xml version=\"1.0\" encoding=\"utf-8\"?&gt;\\n&lt;inter...</td>\n",
       "      <td>573b10a12403f020621654a5</td>\n",
       "      <td>potential.2015--Mendelev-M-I--Fictional-Mg</td>\n",
       "    </tr>\n",
       "    <tr>\n",
       "      <th>125</th>\n",
       "      <td>573b337a2403f020621655b8</td>\n",
       "      <td>&lt;?xml version=\"1.0\" encoding=\"utf-8\"?&gt;\\n&lt;inter...</td>\n",
       "      <td>573b10a12403f020621654a5</td>\n",
       "      <td>potential.2015--Mendelev-M-I--Fictional-W</td>\n",
       "    </tr>\n",
       "    <tr>\n",
       "      <th>126</th>\n",
       "      <td>573b337b2403f020621655b9</td>\n",
       "      <td>&lt;?xml version=\"1.0\" encoding=\"utf-8\"?&gt;\\n&lt;inter...</td>\n",
       "      <td>573b10a12403f020621654a5</td>\n",
       "      <td>potential.2015--Mendelev-M-I--Mg</td>\n",
       "    </tr>\n",
       "    <tr>\n",
       "      <th>127</th>\n",
       "      <td>573b337b2403f020621655ba</td>\n",
       "      <td>&lt;?xml version=\"1.0\" encoding=\"utf-8\"?&gt;\\n&lt;inter...</td>\n",
       "      <td>573b10a12403f020621654a5</td>\n",
       "      <td>potential.2015--Moore-A-P--U-Zr</td>\n",
       "    </tr>\n",
       "    <tr>\n",
       "      <th>128</th>\n",
       "      <td>573b337b2403f020621655bb</td>\n",
       "      <td>&lt;?xml version=\"1.0\" encoding=\"utf-8\"?&gt;\\n&lt;inter...</td>\n",
       "      <td>573b10a12403f020621654a5</td>\n",
       "      <td>potential.2015--Pascuet-M-I-Fernandez-J-R--Al-U</td>\n",
       "    </tr>\n",
       "    <tr>\n",
       "      <th>129</th>\n",
       "      <td>573b337c2403f020621655bc</td>\n",
       "      <td>&lt;?xml version=\"1.0\" encoding=\"utf-8\"?&gt;\\n&lt;inter...</td>\n",
       "      <td>573b10a12403f020621654a5</td>\n",
       "      <td>potential.2015--Pascuet-M-I-Fernandez-J-R--Al</td>\n",
       "    </tr>\n",
       "    <tr>\n",
       "      <th>130</th>\n",
       "      <td>573b337c2403f020621655be</td>\n",
       "      <td>&lt;?xml version=\"1.0\" encoding=\"utf-8\"?&gt;\\n&lt;inter...</td>\n",
       "      <td>573b10a12403f020621654a5</td>\n",
       "      <td>potential.2015--Purja-Pun-G-P--Cu-Ta</td>\n",
       "    </tr>\n",
       "    <tr>\n",
       "      <th>131</th>\n",
       "      <td>573b337d2403f020621655c1</td>\n",
       "      <td>&lt;?xml version=\"1.0\" encoding=\"utf-8\"?&gt;\\n&lt;inter...</td>\n",
       "      <td>573b10a12403f020621654a5</td>\n",
       "      <td>potential.2015--Wilson-S-R--Fictional-Na</td>\n",
       "    </tr>\n",
       "    <tr>\n",
       "      <th>132</th>\n",
       "      <td>573b337e2403f020621655c2</td>\n",
       "      <td>&lt;?xml version=\"1.0\" encoding=\"utf-8\"?&gt;\\n&lt;inter...</td>\n",
       "      <td>573b10a12403f020621654a5</td>\n",
       "      <td>potential.2015--Wilson-S-R--Na</td>\n",
       "    </tr>\n",
       "    <tr>\n",
       "      <th>133</th>\n",
       "      <td>573b337e2403f020621655c3</td>\n",
       "      <td>&lt;?xml version=\"1.0\" encoding=\"utf-8\"?&gt;\\n&lt;inter...</td>\n",
       "      <td>573b10a12403f020621654a5</td>\n",
       "      <td>potential.2015--Wilson-S-R--Ni-Zr</td>\n",
       "    </tr>\n",
       "    <tr>\n",
       "      <th>134</th>\n",
       "      <td>575ab14d2403f0133fb17c75</td>\n",
       "      <td>&lt;?xml version=\"1.0\" encoding=\"utf-8\"?&gt;\\n&lt;inter...</td>\n",
       "      <td>573b10a12403f020621654a5</td>\n",
       "      <td>potential.2015--Purja-Pun-G-P--Ni-Co</td>\n",
       "    </tr>\n",
       "    <tr>\n",
       "      <th>135</th>\n",
       "      <td>575ab17e2403f0133fb17c76</td>\n",
       "      <td>&lt;?xml version=\"1.0\" encoding=\"utf-8\"?&gt;\\n&lt;inter...</td>\n",
       "      <td>573b10a12403f020621654a5</td>\n",
       "      <td>potential.2015--Purja-Pun-G-P--Ni-Al-Co</td>\n",
       "    </tr>\n",
       "    <tr>\n",
       "      <th>136</th>\n",
       "      <td>575ab19a2403f0133fb17c77</td>\n",
       "      <td>&lt;?xml version=\"1.0\" encoding=\"utf-8\"?&gt;\\n&lt;inter...</td>\n",
       "      <td>573b10a12403f020621654a5</td>\n",
       "      <td>potential.2015--Purja-Pun-G-P--Al-Co</td>\n",
       "    </tr>\n",
       "    <tr>\n",
       "      <th>137</th>\n",
       "      <td>575ab4c72403f0133fb17c78</td>\n",
       "      <td>&lt;?xml version=\"1.0\" encoding=\"utf-8\"?&gt;\\n&lt;inter...</td>\n",
       "      <td>573b10a12403f020621654a5</td>\n",
       "      <td>potential.2016--Zhang-P--Ti-O</td>\n",
       "    </tr>\n",
       "  </tbody>\n",
       "</table>\n",
       "<p>138 rows × 4 columns</p>\n",
       "</div>"
      ],
      "text/plain": [
       "                          _id  \\\n",
       "0    573b33512403f0206216553b   \n",
       "1    573b33522403f0206216553c   \n",
       "2    573b33522403f0206216553d   \n",
       "3    573b33522403f0206216553e   \n",
       "4    573b33532403f0206216553f   \n",
       "5    573b33532403f02062165540   \n",
       "6    573b33532403f02062165541   \n",
       "7    573b33542403f02062165542   \n",
       "8    573b33542403f02062165543   \n",
       "9    573b33542403f02062165544   \n",
       "10   573b33552403f02062165545   \n",
       "11   573b33552403f02062165546   \n",
       "12   573b33552403f02062165547   \n",
       "13   573b33562403f02062165548   \n",
       "14   573b33562403f02062165549   \n",
       "15   573b33562403f0206216554a   \n",
       "16   573b33572403f0206216554b   \n",
       "17   573b33572403f0206216554c   \n",
       "18   573b33572403f0206216554d   \n",
       "19   573b33582403f0206216554e   \n",
       "20   573b33582403f0206216554f   \n",
       "21   573b33582403f02062165550   \n",
       "22   573b33592403f02062165551   \n",
       "23   573b33592403f02062165552   \n",
       "24   573b33592403f02062165553   \n",
       "25   573b335a2403f02062165554   \n",
       "26   573b335a2403f02062165555   \n",
       "27   573b335a2403f02062165556   \n",
       "28   573b335b2403f02062165557   \n",
       "29   573b335b2403f02062165558   \n",
       "..                        ...   \n",
       "108  573b33752403f020621655a7   \n",
       "109  573b33752403f020621655a8   \n",
       "110  573b33752403f020621655a9   \n",
       "111  573b33762403f020621655aa   \n",
       "112  573b33762403f020621655ab   \n",
       "113  573b33762403f020621655ac   \n",
       "114  573b33772403f020621655ad   \n",
       "115  573b33772403f020621655ae   \n",
       "116  573b33772403f020621655af   \n",
       "117  573b33782403f020621655b0   \n",
       "118  573b33782403f020621655b1   \n",
       "119  573b33782403f020621655b2   \n",
       "120  573b33792403f020621655b3   \n",
       "121  573b33792403f020621655b4   \n",
       "122  573b33792403f020621655b5   \n",
       "123  573b337a2403f020621655b6   \n",
       "124  573b337a2403f020621655b7   \n",
       "125  573b337a2403f020621655b8   \n",
       "126  573b337b2403f020621655b9   \n",
       "127  573b337b2403f020621655ba   \n",
       "128  573b337b2403f020621655bb   \n",
       "129  573b337c2403f020621655bc   \n",
       "130  573b337c2403f020621655be   \n",
       "131  573b337d2403f020621655c1   \n",
       "132  573b337e2403f020621655c2   \n",
       "133  573b337e2403f020621655c3   \n",
       "134  575ab14d2403f0133fb17c75   \n",
       "135  575ab17e2403f0133fb17c76   \n",
       "136  575ab19a2403f0133fb17c77   \n",
       "137  575ab4c72403f0133fb17c78   \n",
       "\n",
       "                                               content  \\\n",
       "0    <?xml version=\"1.0\" encoding=\"utf-8\"?>\\n<inter...   \n",
       "1    <?xml version=\"1.0\" encoding=\"utf-8\"?>\\n<inter...   \n",
       "2    <?xml version=\"1.0\" encoding=\"utf-8\"?>\\n<inter...   \n",
       "3    <?xml version=\"1.0\" encoding=\"utf-8\"?>\\n<inter...   \n",
       "4    <?xml version=\"1.0\" encoding=\"utf-8\"?>\\n<inter...   \n",
       "5    <?xml version=\"1.0\" encoding=\"utf-8\"?>\\n<inter...   \n",
       "6    <?xml version=\"1.0\" encoding=\"utf-8\"?>\\n<inter...   \n",
       "7    <?xml version=\"1.0\" encoding=\"utf-8\"?>\\n<inter...   \n",
       "8    <?xml version=\"1.0\" encoding=\"utf-8\"?>\\n<inter...   \n",
       "9    <?xml version=\"1.0\" encoding=\"utf-8\"?>\\n<inter...   \n",
       "10   <?xml version=\"1.0\" encoding=\"utf-8\"?>\\n<inter...   \n",
       "11   <?xml version=\"1.0\" encoding=\"utf-8\"?>\\n<inter...   \n",
       "12   <?xml version=\"1.0\" encoding=\"utf-8\"?>\\n<inter...   \n",
       "13   <?xml version=\"1.0\" encoding=\"utf-8\"?>\\n<inter...   \n",
       "14   <?xml version=\"1.0\" encoding=\"utf-8\"?>\\n<inter...   \n",
       "15   <?xml version=\"1.0\" encoding=\"utf-8\"?>\\n<inter...   \n",
       "16   <?xml version=\"1.0\" encoding=\"utf-8\"?>\\n<inter...   \n",
       "17   <?xml version=\"1.0\" encoding=\"utf-8\"?>\\n<inter...   \n",
       "18   <?xml version=\"1.0\" encoding=\"utf-8\"?>\\n<inter...   \n",
       "19   <?xml version=\"1.0\" encoding=\"utf-8\"?>\\n<inter...   \n",
       "20   <?xml version=\"1.0\" encoding=\"utf-8\"?>\\n<inter...   \n",
       "21   <?xml version=\"1.0\" encoding=\"utf-8\"?>\\n<inter...   \n",
       "22   <?xml version=\"1.0\" encoding=\"utf-8\"?>\\n<inter...   \n",
       "23   <?xml version=\"1.0\" encoding=\"utf-8\"?>\\n<inter...   \n",
       "24   <?xml version=\"1.0\" encoding=\"utf-8\"?>\\n<inter...   \n",
       "25   <?xml version=\"1.0\" encoding=\"utf-8\"?>\\n<inter...   \n",
       "26   <?xml version=\"1.0\" encoding=\"utf-8\"?>\\n<inter...   \n",
       "27   <?xml version=\"1.0\" encoding=\"utf-8\"?>\\n<inter...   \n",
       "28   <?xml version=\"1.0\" encoding=\"utf-8\"?>\\n<inter...   \n",
       "29   <?xml version=\"1.0\" encoding=\"utf-8\"?>\\n<inter...   \n",
       "..                                                 ...   \n",
       "108  <?xml version=\"1.0\" encoding=\"utf-8\"?>\\n<inter...   \n",
       "109  <?xml version=\"1.0\" encoding=\"utf-8\"?>\\n<inter...   \n",
       "110  <?xml version=\"1.0\" encoding=\"utf-8\"?>\\n<inter...   \n",
       "111  <?xml version=\"1.0\" encoding=\"utf-8\"?>\\n<inter...   \n",
       "112  <?xml version=\"1.0\" encoding=\"utf-8\"?>\\n<inter...   \n",
       "113  <?xml version=\"1.0\" encoding=\"utf-8\"?>\\n<inter...   \n",
       "114  <?xml version=\"1.0\" encoding=\"utf-8\"?>\\n<inter...   \n",
       "115  <?xml version=\"1.0\" encoding=\"utf-8\"?>\\n<inter...   \n",
       "116  <?xml version=\"1.0\" encoding=\"utf-8\"?>\\n<inter...   \n",
       "117  <?xml version=\"1.0\" encoding=\"utf-8\"?>\\n<inter...   \n",
       "118  <?xml version=\"1.0\" encoding=\"utf-8\"?>\\n<inter...   \n",
       "119  <?xml version=\"1.0\" encoding=\"utf-8\"?>\\n<inter...   \n",
       "120  <?xml version=\"1.0\" encoding=\"utf-8\"?>\\n<inter...   \n",
       "121  <?xml version=\"1.0\" encoding=\"utf-8\"?>\\n<inter...   \n",
       "122  <?xml version=\"1.0\" encoding=\"utf-8\"?>\\n<inter...   \n",
       "123  <?xml version=\"1.0\" encoding=\"utf-8\"?>\\n<inter...   \n",
       "124  <?xml version=\"1.0\" encoding=\"utf-8\"?>\\n<inter...   \n",
       "125  <?xml version=\"1.0\" encoding=\"utf-8\"?>\\n<inter...   \n",
       "126  <?xml version=\"1.0\" encoding=\"utf-8\"?>\\n<inter...   \n",
       "127  <?xml version=\"1.0\" encoding=\"utf-8\"?>\\n<inter...   \n",
       "128  <?xml version=\"1.0\" encoding=\"utf-8\"?>\\n<inter...   \n",
       "129  <?xml version=\"1.0\" encoding=\"utf-8\"?>\\n<inter...   \n",
       "130  <?xml version=\"1.0\" encoding=\"utf-8\"?>\\n<inter...   \n",
       "131  <?xml version=\"1.0\" encoding=\"utf-8\"?>\\n<inter...   \n",
       "132  <?xml version=\"1.0\" encoding=\"utf-8\"?>\\n<inter...   \n",
       "133  <?xml version=\"1.0\" encoding=\"utf-8\"?>\\n<inter...   \n",
       "134  <?xml version=\"1.0\" encoding=\"utf-8\"?>\\n<inter...   \n",
       "135  <?xml version=\"1.0\" encoding=\"utf-8\"?>\\n<inter...   \n",
       "136  <?xml version=\"1.0\" encoding=\"utf-8\"?>\\n<inter...   \n",
       "137  <?xml version=\"1.0\" encoding=\"utf-8\"?>\\n<inter...   \n",
       "\n",
       "                       schema                                            title  \n",
       "0    573b10a12403f020621654a5                potential.1985--Foiles-S-M--Ni-Cu  \n",
       "1    573b10a12403f020621654a5                  potential.1987--Ackland-G-J--Ag  \n",
       "2    573b10a12403f020621654a5                  potential.1987--Ackland-G-J--Au  \n",
       "3    573b10a12403f020621654a5                  potential.1987--Ackland-G-J--Cu  \n",
       "4    573b10a12403f020621654a5                  potential.1987--Ackland-G-J--Mo  \n",
       "5    573b10a12403f020621654a5                  potential.1987--Ackland-G-J--Nb  \n",
       "6    573b10a12403f020621654a5                  potential.1987--Ackland-G-J--Ni  \n",
       "7    573b10a12403f020621654a5                  potential.1987--Ackland-G-J--Ta  \n",
       "8    573b10a12403f020621654a5                   potential.1987--Ackland-G-J--V  \n",
       "9    573b10a12403f020621654a5                   potential.1987--Ackland-G-J--W  \n",
       "10   573b10a12403f020621654a5                    potential.1989--Adams-J-B--Ag  \n",
       "11   573b10a12403f020621654a5                    potential.1989--Adams-J-B--Au  \n",
       "12   573b10a12403f020621654a5                    potential.1989--Adams-J-B--Cu  \n",
       "13   573b10a12403f020621654a5                    potential.1989--Adams-J-B--Ni  \n",
       "14   573b10a12403f020621654a5                    potential.1989--Adams-J-B--Pd  \n",
       "15   573b10a12403f020621654a5                    potential.1989--Adams-J-B--Pt  \n",
       "16   573b10a12403f020621654a5                  potential.1990--Ackland-G-J--Pt  \n",
       "17   573b10a12403f020621654a5                  potential.1992--Ackland-G-J--Ti  \n",
       "18   573b10a12403f020621654a5                   potential.1992--Baskes-M-I--Si  \n",
       "19   573b10a12403f020621654a5                  potential.1995--Ackland-G-J--Zr  \n",
       "20   573b10a12403f020621654a5              potential.1995--Angelo-J-E--Ni-Al-H  \n",
       "21   573b10a12403f020621654a5               potential.1996--Farkas-D--Nb-Ti-Al  \n",
       "22   573b10a12403f020621654a5                  potential.1997--Ackland-G-J--Fe  \n",
       "23   573b10a12403f020621654a5                   potential.1997--Liu-X-Y--Al-Mg  \n",
       "24   573b10a12403f020621654a5                   potential.1998--Liu-X-Y--Al-Mg  \n",
       "25   573b10a12403f020621654a5                   potential.1999--Liu-X-Y--Al-Cu  \n",
       "26   573b10a12403f020621654a5                     potential.1999--Mishin-Y--Al  \n",
       "27   573b10a12403f020621654a5                     potential.1999--Mishin-Y--Ni  \n",
       "28   573b10a12403f020621654a5                   potential.2000--Landa-A--Al-Pb  \n",
       "29   573b10a12403f020621654a5                 potential.2000--Sturgeon-J-B--Al  \n",
       "..                        ...                                              ...  \n",
       "108  573b10a12403f020621654a5                    potential.2013--Gao-H--AgTaO3  \n",
       "109  573b10a12403f020621654a5                potential.2013--Hale-L-M--Pd-Ag-H  \n",
       "110  573b10a12403f020621654a5           potential.2013--Henriksson-K-O-E--Fe-C  \n",
       "111  573b10a12403f020621654a5                     potential.2013--Ravelo-R--Ta  \n",
       "112  573b10a12403f020621654a5            potential.2013--Smirnova-D-E--U-Mo-Xe  \n",
       "113  573b10a12403f020621654a5       potential.2013--Zhou-X-W--Zn-Cd-Hg-S-Se-Te  \n",
       "114  573b10a12403f020621654a5                 potential.2014--Alexander-E--UO2  \n",
       "115  573b10a12403f020621654a5                  potential.2014--Bonny-G--W-H-He  \n",
       "116  573b10a12403f020621654a5     potential.2014--Fernandez-J-R-Pascuet-M-I--U  \n",
       "117  573b10a12403f020621654a5             potential.2014--Liyanage-L-S-I--Fe-C  \n",
       "118  573b10a12403f020621654a5                 potential.2014--Nouranian-S--C-H  \n",
       "119  573b10a12403f020621654a5                        potential.2014--Wang-J--W  \n",
       "120  573b10a12403f020621654a5        potential.2015--Borovikov-V--Fictional-Cu  \n",
       "121  573b10a12403f020621654a5                  potential.2015--Eich-S-M--Fe-Cr  \n",
       "122  573b10a12403f020621654a5              potential.2015--Mendelev-M-I--Al-Sm  \n",
       "123  573b10a12403f020621654a5       potential.2015--Mendelev-M-I--Fictional-Cu  \n",
       "124  573b10a12403f020621654a5       potential.2015--Mendelev-M-I--Fictional-Mg  \n",
       "125  573b10a12403f020621654a5        potential.2015--Mendelev-M-I--Fictional-W  \n",
       "126  573b10a12403f020621654a5                 potential.2015--Mendelev-M-I--Mg  \n",
       "127  573b10a12403f020621654a5                  potential.2015--Moore-A-P--U-Zr  \n",
       "128  573b10a12403f020621654a5  potential.2015--Pascuet-M-I-Fernandez-J-R--Al-U  \n",
       "129  573b10a12403f020621654a5    potential.2015--Pascuet-M-I-Fernandez-J-R--Al  \n",
       "130  573b10a12403f020621654a5             potential.2015--Purja-Pun-G-P--Cu-Ta  \n",
       "131  573b10a12403f020621654a5         potential.2015--Wilson-S-R--Fictional-Na  \n",
       "132  573b10a12403f020621654a5                   potential.2015--Wilson-S-R--Na  \n",
       "133  573b10a12403f020621654a5                potential.2015--Wilson-S-R--Ni-Zr  \n",
       "134  573b10a12403f020621654a5             potential.2015--Purja-Pun-G-P--Ni-Co  \n",
       "135  573b10a12403f020621654a5          potential.2015--Purja-Pun-G-P--Ni-Al-Co  \n",
       "136  573b10a12403f020621654a5             potential.2015--Purja-Pun-G-P--Al-Co  \n",
       "137  573b10a12403f020621654a5                    potential.2016--Zhang-P--Ti-O  \n",
       "\n",
       "[138 rows x 4 columns]"
      ]
     },
     "execution_count": 14,
     "metadata": {},
     "output_type": "execute_result"
    }
   ],
   "source": [
    "iprhub.build_records(template='record-interatomic-potential')\n",
    "iprhub.records"
   ]
  },
  {
   "cell_type": "markdown",
   "metadata": {},
   "source": [
    "#### Retrieve only records for the record-JARVIS-FF-calc template"
   ]
  },
  {
   "cell_type": "code",
   "execution_count": 15,
   "metadata": {
    "collapsed": false
   },
   "outputs": [
    {
     "data": {
      "text/html": [
       "<div>\n",
       "<table border=\"1\" class=\"dataframe\">\n",
       "  <thead>\n",
       "    <tr style=\"text-align: right;\">\n",
       "      <th></th>\n",
       "      <th>_id</th>\n",
       "      <th>content</th>\n",
       "      <th>schema</th>\n",
       "      <th>title</th>\n",
       "    </tr>\n",
       "  </thead>\n",
       "  <tbody>\n",
       "    <tr>\n",
       "      <th>0</th>\n",
       "      <td>5723b73e2403f03d834cfbd1</td>\n",
       "      <td>&lt;?xml version=\"1.0\" encoding=\"utf-8\"?&gt;\\n&lt;jarvi...</td>\n",
       "      <td>5723b6f92403f03d834cfbcf</td>\n",
       "      <td>JARVIS-one-demo</td>\n",
       "    </tr>\n",
       "  </tbody>\n",
       "</table>\n",
       "</div>"
      ],
      "text/plain": [
       "                        _id  \\\n",
       "0  5723b73e2403f03d834cfbd1   \n",
       "\n",
       "                                             content  \\\n",
       "0  <?xml version=\"1.0\" encoding=\"utf-8\"?>\\n<jarvi...   \n",
       "\n",
       "                     schema            title  \n",
       "0  5723b6f92403f03d834cfbcf  JARVIS-one-demo  "
      ]
     },
     "execution_count": 15,
     "metadata": {},
     "output_type": "execute_result"
    }
   ],
   "source": [
    "iprhub.build_records(template='record-JARVIS-FF-calc')\n",
    "iprhub.records"
   ]
  },
  {
   "cell_type": "markdown",
   "metadata": {},
   "source": [
    "#### The selection information is retained for when refresh() is called"
   ]
  },
  {
   "cell_type": "code",
   "execution_count": 16,
   "metadata": {
    "collapsed": false
   },
   "outputs": [
    {
     "data": {
      "text/html": [
       "<div>\n",
       "<table border=\"1\" class=\"dataframe\">\n",
       "  <thead>\n",
       "    <tr style=\"text-align: right;\">\n",
       "      <th></th>\n",
       "      <th>_id</th>\n",
       "      <th>content</th>\n",
       "      <th>schema</th>\n",
       "      <th>title</th>\n",
       "    </tr>\n",
       "  </thead>\n",
       "  <tbody>\n",
       "    <tr>\n",
       "      <th>0</th>\n",
       "      <td>5723b73e2403f03d834cfbd1</td>\n",
       "      <td>&lt;?xml version=\"1.0\" encoding=\"utf-8\"?&gt;\\n&lt;jarvi...</td>\n",
       "      <td>5723b6f92403f03d834cfbcf</td>\n",
       "      <td>JARVIS-one-demo</td>\n",
       "    </tr>\n",
       "  </tbody>\n",
       "</table>\n",
       "</div>"
      ],
      "text/plain": [
       "                        _id  \\\n",
       "0  5723b73e2403f03d834cfbd1   \n",
       "\n",
       "                                             content  \\\n",
       "0  <?xml version=\"1.0\" encoding=\"utf-8\"?>\\n<jarvi...   \n",
       "\n",
       "                     schema            title  \n",
       "0  5723b6f92403f03d834cfbcf  JARVIS-one-demo  "
      ]
     },
     "execution_count": 16,
     "metadata": {},
     "output_type": "execute_result"
    }
   ],
   "source": [
    "iprhub.refresh()\n",
    "iprhub.records"
   ]
  },
  {
   "cell_type": "markdown",
   "metadata": {},
   "source": [
    "### Supressing refreshes\n",
    "\n",
    "If a large number of files are being added/modified at once, it doesn't make much sense to refresh the local copies for every small change. All the methods that modify the curator have the keyword refresh which can be set to False to avoid needless refreshing.\n",
    "\n",
    "__NOTE:__ Many of the capabilities of this class search over the local representations of the templates/types/records, so refreshing is necessary in some cases. Some examples are:\n",
    "\n",
    "- The get methods will fail if they are searching for items that have been added after the last refresh. \n",
    "\n",
    "- Any method that takes templates/types as inputs won't be able to find them if they were added since the last refresh.\n",
    "\n",
    "- The add_xml_types() and add_templates() may miss duplicate entries if added before a refresh."
   ]
  },
  {
   "cell_type": "markdown",
   "metadata": {},
   "source": [
    "#### Demonstrate adding a record without refreshing"
   ]
  },
  {
   "cell_type": "code",
   "execution_count": 28,
   "metadata": {
    "collapsed": false
   },
   "outputs": [
    {
     "data": {
      "text/html": [
       "<div>\n",
       "<table border=\"1\" class=\"dataframe\">\n",
       "  <thead>\n",
       "    <tr style=\"text-align: right;\">\n",
       "      <th></th>\n",
       "      <th>_id</th>\n",
       "      <th>content</th>\n",
       "      <th>schema</th>\n",
       "      <th>title</th>\n",
       "    </tr>\n",
       "  </thead>\n",
       "  <tbody>\n",
       "    <tr>\n",
       "      <th>0</th>\n",
       "      <td>57b346dad92ecc10c8803349</td>\n",
       "      <td>&lt;?xml version=\"1.0\" encoding=\"utf-8\"?&gt;\\n&lt;LAMMP...</td>\n",
       "      <td>57b338f0d92ecc10c8803344</td>\n",
       "      <td>1985--Foiles-S-M--Ni-Cu</td>\n",
       "    </tr>\n",
       "  </tbody>\n",
       "</table>\n",
       "</div>"
      ],
      "text/plain": [
       "                        _id  \\\n",
       "0  57b346dad92ecc10c8803349   \n",
       "\n",
       "                                             content  \\\n",
       "0  <?xml version=\"1.0\" encoding=\"utf-8\"?>\\n<LAMMP...   \n",
       "\n",
       "                     schema                    title  \n",
       "0  57b338f0d92ecc10c8803344  1985--Foiles-S-M--Ni-Cu  "
      ]
     },
     "execution_count": 28,
     "metadata": {},
     "output_type": "execute_result"
    }
   ],
   "source": [
    "local.records"
   ]
  },
  {
   "cell_type": "code",
   "execution_count": 29,
   "metadata": {
    "collapsed": false
   },
   "outputs": [
    {
     "data": {
      "text/html": [
       "<div>\n",
       "<table border=\"1\" class=\"dataframe\">\n",
       "  <thead>\n",
       "    <tr style=\"text-align: right;\">\n",
       "      <th></th>\n",
       "      <th>_id</th>\n",
       "      <th>content</th>\n",
       "      <th>schema</th>\n",
       "      <th>title</th>\n",
       "    </tr>\n",
       "  </thead>\n",
       "  <tbody>\n",
       "    <tr>\n",
       "      <th>0</th>\n",
       "      <td>57b346dad92ecc10c8803349</td>\n",
       "      <td>&lt;?xml version=\"1.0\" encoding=\"utf-8\"?&gt;\\n&lt;LAMMP...</td>\n",
       "      <td>57b338f0d92ecc10c8803344</td>\n",
       "      <td>1985--Foiles-S-M--Ni-Cu</td>\n",
       "    </tr>\n",
       "  </tbody>\n",
       "</table>\n",
       "</div>"
      ],
      "text/plain": [
       "                        _id  \\\n",
       "0  57b346dad92ecc10c8803349   \n",
       "\n",
       "                                             content  \\\n",
       "0  <?xml version=\"1.0\" encoding=\"utf-8\"?>\\n<LAMMP...   \n",
       "\n",
       "                     schema                    title  \n",
       "0  57b338f0d92ecc10c8803344  1985--Foiles-S-M--Ni-Cu  "
      ]
     },
     "execution_count": 29,
     "metadata": {},
     "output_type": "execute_result"
    }
   ],
   "source": [
    "local.add_record('demo_files/1987--Ackland-G-J--Ag.xml', '1987--Ackland-G-J--Ag', 'LAMMPS-potential', refresh=False)\n",
    "local.records"
   ]
  },
  {
   "cell_type": "markdown",
   "metadata": {},
   "source": [
    "#### Refresh"
   ]
  },
  {
   "cell_type": "code",
   "execution_count": 30,
   "metadata": {
    "collapsed": false
   },
   "outputs": [
    {
     "data": {
      "text/html": [
       "<div>\n",
       "<table border=\"1\" class=\"dataframe\">\n",
       "  <thead>\n",
       "    <tr style=\"text-align: right;\">\n",
       "      <th></th>\n",
       "      <th>_id</th>\n",
       "      <th>content</th>\n",
       "      <th>schema</th>\n",
       "      <th>title</th>\n",
       "    </tr>\n",
       "  </thead>\n",
       "  <tbody>\n",
       "    <tr>\n",
       "      <th>0</th>\n",
       "      <td>57b346dad92ecc10c8803349</td>\n",
       "      <td>&lt;?xml version=\"1.0\" encoding=\"utf-8\"?&gt;\\n&lt;LAMMP...</td>\n",
       "      <td>57b338f0d92ecc10c8803344</td>\n",
       "      <td>1985--Foiles-S-M--Ni-Cu</td>\n",
       "    </tr>\n",
       "    <tr>\n",
       "      <th>1</th>\n",
       "      <td>5849e017d92ecc2710eed94d</td>\n",
       "      <td>&lt;?xml version=\"1.0\" encoding=\"utf-8\"?&gt;\\n&lt;LAMMP...</td>\n",
       "      <td>57b338f0d92ecc10c8803344</td>\n",
       "      <td>1987--Ackland-G-J--Ag</td>\n",
       "    </tr>\n",
       "  </tbody>\n",
       "</table>\n",
       "</div>"
      ],
      "text/plain": [
       "                        _id  \\\n",
       "0  57b346dad92ecc10c8803349   \n",
       "1  5849e017d92ecc2710eed94d   \n",
       "\n",
       "                                             content  \\\n",
       "0  <?xml version=\"1.0\" encoding=\"utf-8\"?>\\n<LAMMP...   \n",
       "1  <?xml version=\"1.0\" encoding=\"utf-8\"?>\\n<LAMMP...   \n",
       "\n",
       "                     schema                    title  \n",
       "0  57b338f0d92ecc10c8803344  1985--Foiles-S-M--Ni-Cu  \n",
       "1  57b338f0d92ecc10c8803344    1987--Ackland-G-J--Ag  "
      ]
     },
     "execution_count": 30,
     "metadata": {},
     "output_type": "execute_result"
    }
   ],
   "source": [
    "local.refresh()\n",
    "local.records"
   ]
  },
  {
   "cell_type": "markdown",
   "metadata": {},
   "source": [
    "#### Demonstrate deleting a record without refreshing"
   ]
  },
  {
   "cell_type": "code",
   "execution_count": 31,
   "metadata": {
    "collapsed": false
   },
   "outputs": [
    {
     "data": {
      "text/html": [
       "<div>\n",
       "<table border=\"1\" class=\"dataframe\">\n",
       "  <thead>\n",
       "    <tr style=\"text-align: right;\">\n",
       "      <th></th>\n",
       "      <th>_id</th>\n",
       "      <th>content</th>\n",
       "      <th>schema</th>\n",
       "      <th>title</th>\n",
       "    </tr>\n",
       "  </thead>\n",
       "  <tbody>\n",
       "    <tr>\n",
       "      <th>0</th>\n",
       "      <td>57b346dad92ecc10c8803349</td>\n",
       "      <td>&lt;?xml version=\"1.0\" encoding=\"utf-8\"?&gt;\\n&lt;LAMMP...</td>\n",
       "      <td>57b338f0d92ecc10c8803344</td>\n",
       "      <td>1985--Foiles-S-M--Ni-Cu</td>\n",
       "    </tr>\n",
       "    <tr>\n",
       "      <th>1</th>\n",
       "      <td>5849e017d92ecc2710eed94d</td>\n",
       "      <td>&lt;?xml version=\"1.0\" encoding=\"utf-8\"?&gt;\\n&lt;LAMMP...</td>\n",
       "      <td>57b338f0d92ecc10c8803344</td>\n",
       "      <td>1987--Ackland-G-J--Ag</td>\n",
       "    </tr>\n",
       "  </tbody>\n",
       "</table>\n",
       "</div>"
      ],
      "text/plain": [
       "                        _id  \\\n",
       "0  57b346dad92ecc10c8803349   \n",
       "1  5849e017d92ecc2710eed94d   \n",
       "\n",
       "                                             content  \\\n",
       "0  <?xml version=\"1.0\" encoding=\"utf-8\"?>\\n<LAMMP...   \n",
       "1  <?xml version=\"1.0\" encoding=\"utf-8\"?>\\n<LAMMP...   \n",
       "\n",
       "                     schema                    title  \n",
       "0  57b338f0d92ecc10c8803344  1985--Foiles-S-M--Ni-Cu  \n",
       "1  57b338f0d92ecc10c8803344    1987--Ackland-G-J--Ag  "
      ]
     },
     "execution_count": 31,
     "metadata": {},
     "output_type": "execute_result"
    }
   ],
   "source": [
    "local.delete_record('1987--Ackland-G-J--Ag', refresh=False)\n",
    "local.records"
   ]
  },
  {
   "cell_type": "markdown",
   "metadata": {},
   "source": [
    "#### Refresh"
   ]
  },
  {
   "cell_type": "code",
   "execution_count": 32,
   "metadata": {
    "collapsed": false
   },
   "outputs": [
    {
     "data": {
      "text/html": [
       "<div>\n",
       "<table border=\"1\" class=\"dataframe\">\n",
       "  <thead>\n",
       "    <tr style=\"text-align: right;\">\n",
       "      <th></th>\n",
       "      <th>_id</th>\n",
       "      <th>content</th>\n",
       "      <th>schema</th>\n",
       "      <th>title</th>\n",
       "    </tr>\n",
       "  </thead>\n",
       "  <tbody>\n",
       "    <tr>\n",
       "      <th>0</th>\n",
       "      <td>57b346dad92ecc10c8803349</td>\n",
       "      <td>&lt;?xml version=\"1.0\" encoding=\"utf-8\"?&gt;\\n&lt;LAMMP...</td>\n",
       "      <td>57b338f0d92ecc10c8803344</td>\n",
       "      <td>1985--Foiles-S-M--Ni-Cu</td>\n",
       "    </tr>\n",
       "  </tbody>\n",
       "</table>\n",
       "</div>"
      ],
      "text/plain": [
       "                        _id  \\\n",
       "0  57b346dad92ecc10c8803349   \n",
       "\n",
       "                                             content  \\\n",
       "0  <?xml version=\"1.0\" encoding=\"utf-8\"?>\\n<LAMMP...   \n",
       "\n",
       "                     schema                    title  \n",
       "0  57b338f0d92ecc10c8803344  1985--Foiles-S-M--Ni-Cu  "
      ]
     },
     "execution_count": 32,
     "metadata": {},
     "output_type": "execute_result"
    }
   ],
   "source": [
    "local.refresh()\n",
    "local.records"
   ]
  },
  {
   "cell_type": "code",
   "execution_count": null,
   "metadata": {
    "collapsed": true
   },
   "outputs": [],
   "source": []
  }
 ],
 "metadata": {
  "anaconda-cloud": {},
  "kernelspec": {
   "display_name": "Python [Root]",
   "language": "python",
   "name": "Python [Root]"
  },
  "language_info": {
   "codemirror_mode": {
    "name": "ipython",
    "version": 2
   },
   "file_extension": ".py",
   "mimetype": "text/x-python",
   "name": "python",
   "nbconvert_exporter": "python",
   "pygments_lexer": "ipython2",
   "version": "2.7.12"
  }
 },
 "nbformat": 4,
 "nbformat_minor": 0
}
