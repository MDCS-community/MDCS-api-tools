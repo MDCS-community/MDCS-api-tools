{
 "cells": [
  {
   "cell_type": "markdown",
   "metadata": {},
   "source": [
    "# Python MDCS Class\n",
    "\n",
    "This notebook is designed to demonstrate the simple functionality of the Python mdcs.MDCS class."
   ]
  },
  {
   "cell_type": "markdown",
   "metadata": {},
   "source": [
    "## Library Imports"
   ]
  },
  {
   "cell_type": "code",
   "execution_count": 1,
   "metadata": {
    "collapsed": false
   },
   "outputs": [],
   "source": [
    "import os\n",
    "import time\n",
    "\n",
    "#This imports the mdcs-api Python tools\n",
    "import mdcs"
   ]
  },
  {
   "cell_type": "markdown",
   "metadata": {},
   "source": [
    "## Initialize MDCS Link"
   ]
  },
  {
   "cell_type": "markdown",
   "metadata": {},
   "source": [
    "Interacting with a curator requires certain access information.  The MDCS class helps with this by allowing this information to be defined once, and does a quick check that the information is valid.\n",
    "\n",
    "Keyword arguments for initilization:\n",
    "\n",
    "- host = root url for the curator.\n",
    "\n",
    "- user = username, or tuple consisting of (username, password).\n",
    "\n",
    "- pswd = password.\n",
    "\n",
    "- cert = certification file that may be necessary for some curators.\n",
    "\n",
    "- records_fetch = boolean indicating if a local copy of all records are built during initialization. Default value is True."
   ]
  },
  {
   "cell_type": "markdown",
   "metadata": {},
   "source": [
    "#### Initialize an empty MDCS instance and fill in values separately"
   ]
  },
  {
   "cell_type": "code",
   "execution_count": 2,
   "metadata": {
    "collapsed": true
   },
   "outputs": [],
   "source": [
    "empty = mdcs.MDCS()\n",
    "empty.host = 'http://127.0.0.1:8000/'\n",
    "empty.user = ('admin', 'admin')"
   ]
  },
  {
   "cell_type": "markdown",
   "metadata": {},
   "source": [
    "#### Initilize a link to a local MDCS using password prompt"
   ]
  },
  {
   "cell_type": "code",
   "execution_count": 3,
   "metadata": {
    "collapsed": false
   },
   "outputs": [
    {
     "name": "stdout",
     "output_type": "stream",
     "text": [
      "Enter password for admin on http://127.0.0.1:8000/:\n",
      "password:········\n"
     ]
    }
   ],
   "source": [
    "local =  mdcs.MDCS(host='http://127.0.0.1:8000/', user='admin')"
   ]
  },
  {
   "cell_type": "markdown",
   "metadata": {},
   "source": [
    "#### Initilize a link to a remote MDCS using both certification and password files"
   ]
  },
  {
   "cell_type": "code",
   "execution_count": 4,
   "metadata": {
    "collapsed": false
   },
   "outputs": [
    {
     "ename": "ValueError",
     "evalue": "Certification file not found!",
     "output_type": "error",
     "traceback": [
      "\u001b[1;31m---------------------------------------------------------------------------\u001b[0m",
      "\u001b[1;31mValueError\u001b[0m                                Traceback (most recent call last)",
      "\u001b[1;32m<ipython-input-4-07e3edb6fc4d>\u001b[0m in \u001b[0;36m<module>\u001b[1;34m()\u001b[0m\n\u001b[0;32m      2\u001b[0m                    \u001b[0muser\u001b[0m\u001b[1;33m=\u001b[0m\u001b[1;34m'lmh1'\u001b[0m\u001b[1;33m,\u001b[0m\u001b[1;33m\u001b[0m\u001b[0m\n\u001b[0;32m      3\u001b[0m                    \u001b[0mpswd\u001b[0m\u001b[1;33m=\u001b[0m\u001b[1;34m'C:/users/lmh1/documents/iprhub/iprhub_password.txt'\u001b[0m\u001b[1;33m,\u001b[0m\u001b[1;33m\u001b[0m\u001b[0m\n\u001b[1;32m----> 4\u001b[1;33m                    cert='C:/users/lmh1/documents/iprhub/iprhub-ca.pem')\n\u001b[0m",
      "\u001b[1;32mC:\\Users\\lmh1\\Documents\\Python-packages\\MDCS-api-tools\\mdcs\\MDCS.pyc\u001b[0m in \u001b[0;36m__init__\u001b[1;34m(self, host, user, pswd, cert, build_records, records_format, records_id, records_template, records_title)\u001b[0m\n\u001b[0;32m     37\u001b[0m         \u001b[1;31m#Set access information\u001b[0m\u001b[1;33m\u001b[0m\u001b[1;33m\u001b[0m\u001b[0m\n\u001b[0;32m     38\u001b[0m         \u001b[0mself\u001b[0m\u001b[1;33m.\u001b[0m\u001b[0mhost\u001b[0m \u001b[1;33m=\u001b[0m \u001b[0mhost\u001b[0m\u001b[1;33m\u001b[0m\u001b[0m\n\u001b[1;32m---> 39\u001b[1;33m         \u001b[0mself\u001b[0m\u001b[1;33m.\u001b[0m\u001b[0mcert\u001b[0m \u001b[1;33m=\u001b[0m \u001b[0mcert\u001b[0m\u001b[1;33m\u001b[0m\u001b[0m\n\u001b[0m\u001b[0;32m     40\u001b[0m         \u001b[1;32mif\u001b[0m \u001b[0muser\u001b[0m \u001b[1;32mis\u001b[0m \u001b[1;32mnot\u001b[0m \u001b[0mNone\u001b[0m\u001b[1;33m:\u001b[0m\u001b[1;33m\u001b[0m\u001b[0m\n\u001b[0;32m     41\u001b[0m             \u001b[1;32mif\u001b[0m \u001b[0misinstance\u001b[0m\u001b[1;33m(\u001b[0m\u001b[0muser\u001b[0m\u001b[1;33m,\u001b[0m \u001b[1;33m(\u001b[0m\u001b[0mlist\u001b[0m\u001b[1;33m,\u001b[0m \u001b[0mtuple\u001b[0m\u001b[1;33m)\u001b[0m\u001b[1;33m)\u001b[0m\u001b[1;33m:\u001b[0m\u001b[1;33m\u001b[0m\u001b[0m\n",
      "\u001b[1;32mC:\\Users\\lmh1\\Documents\\Python-packages\\MDCS-api-tools\\mdcs\\MDCS.pyc\u001b[0m in \u001b[0;36mcert\u001b[1;34m(self, value)\u001b[0m\n\u001b[0;32m     96\u001b[0m             \u001b[0mself\u001b[0m\u001b[1;33m.\u001b[0m\u001b[0m__cert\u001b[0m \u001b[1;33m=\u001b[0m \u001b[0mos\u001b[0m\u001b[1;33m.\u001b[0m\u001b[0mpath\u001b[0m\u001b[1;33m.\u001b[0m\u001b[0mabspath\u001b[0m\u001b[1;33m(\u001b[0m\u001b[0mvalue\u001b[0m\u001b[1;33m)\u001b[0m\u001b[1;33m\u001b[0m\u001b[0m\n\u001b[0;32m     97\u001b[0m         \u001b[1;32melse\u001b[0m\u001b[1;33m:\u001b[0m\u001b[1;33m\u001b[0m\u001b[0m\n\u001b[1;32m---> 98\u001b[1;33m             \u001b[1;32mraise\u001b[0m \u001b[0mValueError\u001b[0m\u001b[1;33m(\u001b[0m\u001b[1;34m'Certification file not found!'\u001b[0m\u001b[1;33m)\u001b[0m\u001b[1;33m\u001b[0m\u001b[0m\n\u001b[0m\u001b[0;32m     99\u001b[0m \u001b[1;33m\u001b[0m\u001b[0m\n\u001b[0;32m    100\u001b[0m     \u001b[1;32mdef\u001b[0m \u001b[0m__setpswd\u001b[0m\u001b[1;33m(\u001b[0m\u001b[0mself\u001b[0m\u001b[1;33m,\u001b[0m \u001b[0mvalue\u001b[0m\u001b[1;33m=\u001b[0m\u001b[0mNone\u001b[0m\u001b[1;33m)\u001b[0m\u001b[1;33m:\u001b[0m\u001b[1;33m\u001b[0m\u001b[0m\n",
      "\u001b[1;31mValueError\u001b[0m: Certification file not found!"
     ]
    }
   ],
   "source": [
    "iprhub = mdcs.MDCS(host='https://iprhub.nist.gov/', \n",
    "                   user='lmh1',\n",
    "                   pswd='C:/users/lmh1/documents/iprhub/iprhub_password.txt',\n",
    "                   cert='C:/users/lmh1/documents/iprhub/iprhub-ca.pem')"
   ]
  },
  {
   "cell_type": "markdown",
   "metadata": {},
   "source": [
    "## Explore Types and Templates\n",
    "\n",
    "When initialized with access information, the MDCS object will query the database and build local Pandas DataFrames of all the types and templates. Copies of these DataFrames can be accessed using the MDCS.templates and MDCS.xsd_types properties."
   ]
  },
  {
   "cell_type": "markdown",
   "metadata": {},
   "source": [
    "#### List templates attribute names "
   ]
  },
  {
   "cell_type": "code",
   "execution_count": 5,
   "metadata": {
    "collapsed": false
   },
   "outputs": [
    {
     "name": "stdout",
     "output_type": "stream",
     "text": [
      "XSLTFiles\n",
      "content\n",
      "dependencies\n",
      "exporters\n",
      "filename\n",
      "hash\n",
      "id\n",
      "templateVersion\n",
      "title\n",
      "version\n"
     ]
    }
   ],
   "source": [
    "for key in local.templates:\n",
    "    print key"
   ]
  },
  {
   "cell_type": "code",
   "execution_count": 6,
   "metadata": {
    "collapsed": false
   },
   "outputs": [
    {
     "data": {
      "text/html": [
       "<div>\n",
       "<table border=\"1\" class=\"dataframe\">\n",
       "  <thead>\n",
       "    <tr style=\"text-align: right;\">\n",
       "      <th></th>\n",
       "      <th>XSLTFiles</th>\n",
       "      <th>content</th>\n",
       "      <th>dependencies</th>\n",
       "      <th>exporters</th>\n",
       "      <th>filename</th>\n",
       "      <th>hash</th>\n",
       "      <th>id</th>\n",
       "      <th>templateVersion</th>\n",
       "      <th>title</th>\n",
       "      <th>version</th>\n",
       "    </tr>\n",
       "  </thead>\n",
       "  <tbody>\n",
       "    <tr>\n",
       "      <th>0</th>\n",
       "      <td>[]</td>\n",
       "      <td>&lt;?xml version=\"1.0\" encoding=\"UTF-8\" standalon...</td>\n",
       "      <td>[57b3502398a5e11d98150185]</td>\n",
       "      <td>[]</td>\n",
       "      <td>record-lammps-potential.xsd</td>\n",
       "      <td>23c20caab03fe167efc727c977cd66fafbe96ea2</td>\n",
       "      <td>57b3502598a5e11d98150188</td>\n",
       "      <td>57b3502598a5e11d98150187</td>\n",
       "      <td>LAMMPS-potential</td>\n",
       "      <td>1</td>\n",
       "    </tr>\n",
       "  </tbody>\n",
       "</table>\n",
       "</div>"
      ],
      "text/plain": [
       "  XSLTFiles                                            content  \\\n",
       "0        []  <?xml version=\"1.0\" encoding=\"UTF-8\" standalon...   \n",
       "\n",
       "                 dependencies exporters                     filename  \\\n",
       "0  [57b3502398a5e11d98150185]        []  record-lammps-potential.xsd   \n",
       "\n",
       "                                       hash                        id  \\\n",
       "0  23c20caab03fe167efc727c977cd66fafbe96ea2  57b3502598a5e11d98150188   \n",
       "\n",
       "            templateVersion             title  version  \n",
       "0  57b3502598a5e11d98150187  LAMMPS-potential        1  "
      ]
     },
     "execution_count": 6,
     "metadata": {},
     "output_type": "execute_result"
    }
   ],
   "source": [
    "local.templates"
   ]
  },
  {
   "cell_type": "markdown",
   "metadata": {},
   "source": [
    "#### List names of all templates on local"
   ]
  },
  {
   "cell_type": "code",
   "execution_count": 7,
   "metadata": {
    "collapsed": false
   },
   "outputs": [
    {
     "name": "stdout",
     "output_type": "stream",
     "text": [
      "LAMMPS-potential\n"
     ]
    }
   ],
   "source": [
    "for template in local.templates.title.tolist():\n",
    "    print template"
   ]
  },
  {
   "cell_type": "markdown",
   "metadata": {},
   "source": [
    "#### List names of all types on local"
   ]
  },
  {
   "cell_type": "code",
   "execution_count": 8,
   "metadata": {
    "collapsed": false
   },
   "outputs": [
    {
     "name": "stdout",
     "output_type": "stream",
     "text": [
      "interatomic-potential-compact-id\n",
      "chemical-element\n",
      "lammps-potential\n"
     ]
    }
   ],
   "source": [
    "for xsd_type in local.xsd_types.title.tolist():\n",
    "    print xsd_type"
   ]
  },
  {
   "cell_type": "markdown",
   "metadata": {},
   "source": [
    "### Finding a Specific Template or Type\n",
    "\n",
    "Pandas has great built-in tools for parsing through the listed records. For convience, the MDCS class also has the methods get_template() and get_xsd_type() for locating a specific template or type. These methods return the Series of the matching template/type and issue an error if exactly one matching template/type is not found. \n",
    "\n",
    "One optional argument is allowed. If given, a limiting search is performed using the template's title and filename (if not specified as keywords).\n",
    "\n",
    "If any of the following keyword arguments are given, the returned template must have matching corresponding values for the terms.\n",
    "\n",
    "- filename = name of the file associated with the template/type\n",
    "\n",
    "- title = name assigned to the template/type\n",
    "\n",
    "- version = version assigned to the template/type"
   ]
  },
  {
   "cell_type": "markdown",
   "metadata": {},
   "source": [
    "#### Get template information for LAMMPS-potential template"
   ]
  },
  {
   "cell_type": "code",
   "execution_count": 9,
   "metadata": {
    "collapsed": false
   },
   "outputs": [
    {
     "data": {
      "text/plain": [
       "XSLTFiles                                                         []\n",
       "content            <?xml version=\"1.0\" encoding=\"UTF-8\" standalon...\n",
       "dependencies                              [57b3502398a5e11d98150185]\n",
       "exporters                                                         []\n",
       "filename                                 record-lammps-potential.xsd\n",
       "hash                        23c20caab03fe167efc727c977cd66fafbe96ea2\n",
       "id                                          57b3502598a5e11d98150188\n",
       "templateVersion                             57b3502598a5e11d98150187\n",
       "title                                               LAMMPS-potential\n",
       "version                                                            1\n",
       "Name: 0, dtype: object"
      ]
     },
     "execution_count": 9,
     "metadata": {},
     "output_type": "execute_result"
    }
   ],
   "source": [
    "local.get_template('LAMMPS-potential')"
   ]
  },
  {
   "cell_type": "markdown",
   "metadata": {},
   "source": [
    "## Explore Records\n",
    "\n",
    "Records are similarly copied to a local DataFrame and can be viewed with the property MDCS.records. "
   ]
  },
  {
   "cell_type": "markdown",
   "metadata": {},
   "source": [
    "#### Display the content of iprhub.records"
   ]
  },
  {
   "cell_type": "code",
   "execution_count": null,
   "metadata": {
    "collapsed": false
   },
   "outputs": [],
   "source": [
    "iprhub.records"
   ]
  },
  {
   "cell_type": "markdown",
   "metadata": {},
   "source": [
    "### Finding a Specific Record\n",
    "\n",
    "The get_record() method can be used for locating a specific record. Returns the Series of the matching record. Issues an error if exactly one matching record is not found. \n",
    "\n",
    "If any of the following keyword arguments are given, the returned template must have matching corresponding values for the terms.\n",
    "\n",
    "Keyword arguments are:\n",
    "\n",
    "- title = name or id associated with the record.\n",
    "\n",
    "- template = template (schema) associated with the record. Can be title, filename, id or Series representation of a template."
   ]
  },
  {
   "cell_type": "markdown",
   "metadata": {},
   "source": [
    "#### Call get_record with title only"
   ]
  },
  {
   "cell_type": "code",
   "execution_count": null,
   "metadata": {
    "collapsed": false
   },
   "outputs": [],
   "source": [
    "iprhub.get_record('1987--Ackland-G-J--Cu')"
   ]
  },
  {
   "cell_type": "markdown",
   "metadata": {},
   "source": [
    "#### Call get_record with title and template"
   ]
  },
  {
   "cell_type": "code",
   "execution_count": null,
   "metadata": {
    "collapsed": false
   },
   "outputs": [],
   "source": [
    "iprhub.get_record(title =    'potential.2015--Mendelev-M-I--Al-Sm', \n",
    "                  template = 'record-interatomic-potential')"
   ]
  },
  {
   "cell_type": "markdown",
   "metadata": {},
   "source": [
    "## Refresh the Local Information\n",
    "\n",
    "The DataFrames for the types, templates and records can be rebuilt by calling the refresh method. This is useful if external changes are made to the curator."
   ]
  },
  {
   "cell_type": "code",
   "execution_count": 10,
   "metadata": {
    "collapsed": true
   },
   "outputs": [],
   "source": [
    "local.refresh()"
   ]
  },
  {
   "cell_type": "markdown",
   "metadata": {},
   "source": [
    "## Adding Templates and Types\n",
    "\n",
    "Templates and types can be easily added using the add_template() and add_xsd_type() methods.  Both functions work nearly identically.\n",
    "\n",
    "Keyword arguments for both methods:\n",
    "\n",
    "- filename = path to file being loaded.\n",
    "\n",
    "- title = name to assign to template/type. If not given, then the filename minus extension is used.\n",
    "\n",
    "- version = version number.\n",
    "\n",
    "- dependencies = list of types that are required by the file being loaded. Each item can be identified by the type's filename, id, title, or as a Pandas Series.\n",
    "\n",
    "- refresh = Boolean indicating if refresh() is called automatically. Default is True.\n",
    "\n",
    "It will not add if the title and version of the template/type match with an existing template/type."
   ]
  },
  {
   "cell_type": "markdown",
   "metadata": {},
   "source": [
    "#### Call add_xsd_type with an already existing title and version"
   ]
  },
  {
   "cell_type": "code",
   "execution_count": 11,
   "metadata": {
    "collapsed": false
   },
   "outputs": [
    {
     "name": "stdout",
     "output_type": "stream",
     "text": [
      "uploading uncertainty\n"
     ]
    }
   ],
   "source": [
    "local.add_xsd_type('demo_files/uncertainty.xsd', title='uncertainty')"
   ]
  },
  {
   "cell_type": "markdown",
   "metadata": {},
   "source": [
    "#### Call add_xsd_type again with a new name"
   ]
  },
  {
   "cell_type": "code",
   "execution_count": 12,
   "metadata": {
    "collapsed": false
   },
   "outputs": [
    {
     "name": "stdout",
     "output_type": "stream",
     "text": [
      "uploading newt-uncertainty\n"
     ]
    }
   ],
   "source": [
    "local.add_xsd_type('demo_files/uncertainty.xsd', title='newt-uncertainty')"
   ]
  },
  {
   "cell_type": "markdown",
   "metadata": {},
   "source": [
    "#### Show that new type exists"
   ]
  },
  {
   "cell_type": "code",
   "execution_count": 13,
   "metadata": {
    "collapsed": false
   },
   "outputs": [
    {
     "data": {
      "text/plain": [
       "content         <?xml version=\"1.0\" encoding=\"UTF-8\" standalon...\n",
       "dependencies                                                   []\n",
       "filename                                          uncertainty.xsd\n",
       "hash                     3db5ac62b1aaf1d844e630de15aa0a84b37da39a\n",
       "id                                       58601f1698a5e11bc84d7f72\n",
       "title                                            newt-uncertainty\n",
       "typeVersion                              58601f1698a5e11bc84d7f71\n",
       "version                                                         1\n",
       "Name: 4, dtype: object"
      ]
     },
     "execution_count": 13,
     "metadata": {},
     "output_type": "execute_result"
    }
   ],
   "source": [
    "local.get_xsd_type('newt-uncertainty')"
   ]
  },
  {
   "cell_type": "markdown",
   "metadata": {},
   "source": [
    "## Deleting and Restoring Templates and Types\n",
    "\n",
    "There are also methods delete_template(), delete_xsd_type(), restore_template(), restore_xsd_type() that delete and restore templates and types, but these behaviors don't do much with the current version of the curator."
   ]
  },
  {
   "cell_type": "markdown",
   "metadata": {},
   "source": [
    "## Adding Records\n",
    "\n",
    "A record can be added using the add_record() method. \n",
    "\n",
    "Arguments of the function are:\n",
    "\n",
    "- content = string representation of an xml record, or the path to an xml file.\n",
    "\n",
    "- title = name to give the record.\n",
    "\n",
    "- template = schema template that the record is validated against.  Can be title, filename, id or Series representation of a template.\n",
    "\n",
    "Keyword argument:\n",
    "\n",
    "- refresh = Boolean indicating if refresh() is called automatically. Default is True."
   ]
  },
  {
   "cell_type": "markdown",
   "metadata": {},
   "source": [
    "#### Add a record"
   ]
  },
  {
   "cell_type": "code",
   "execution_count": 14,
   "metadata": {
    "collapsed": false
   },
   "outputs": [
    {
     "data": {
      "text/html": [
       "<div>\n",
       "<table border=\"1\" class=\"dataframe\">\n",
       "  <thead>\n",
       "    <tr style=\"text-align: right;\">\n",
       "      <th></th>\n",
       "      <th>_id</th>\n",
       "      <th>content</th>\n",
       "      <th>schema</th>\n",
       "      <th>title</th>\n",
       "    </tr>\n",
       "  </thead>\n",
       "  <tbody>\n",
       "    <tr>\n",
       "      <th>0</th>\n",
       "      <td>57b3506b98a5e11d9815018a</td>\n",
       "      <td>&lt;?xml version=\"1.0\" encoding=\"utf-8\"?&gt;\\n&lt;LAMMP...</td>\n",
       "      <td>57b3502598a5e11d98150188</td>\n",
       "      <td>1985--Foiles-S-M--Ni-Cu</td>\n",
       "    </tr>\n",
       "    <tr>\n",
       "      <th>1</th>\n",
       "      <td>58601f3198a5e11bc84d7f73</td>\n",
       "      <td>&lt;?xml version=\"1.0\" encoding=\"utf-8\"?&gt;\\n&lt;LAMMP...</td>\n",
       "      <td>57b3502598a5e11d98150188</td>\n",
       "      <td>1987--Ackland-G-J--Ag</td>\n",
       "    </tr>\n",
       "  </tbody>\n",
       "</table>\n",
       "</div>"
      ],
      "text/plain": [
       "                        _id  \\\n",
       "0  57b3506b98a5e11d9815018a   \n",
       "1  58601f3198a5e11bc84d7f73   \n",
       "\n",
       "                                             content  \\\n",
       "0  <?xml version=\"1.0\" encoding=\"utf-8\"?>\\n<LAMMP...   \n",
       "1  <?xml version=\"1.0\" encoding=\"utf-8\"?>\\n<LAMMP...   \n",
       "\n",
       "                     schema                    title  \n",
       "0  57b3502598a5e11d98150188  1985--Foiles-S-M--Ni-Cu  \n",
       "1  57b3502598a5e11d98150188    1987--Ackland-G-J--Ag  "
      ]
     },
     "execution_count": 14,
     "metadata": {},
     "output_type": "execute_result"
    }
   ],
   "source": [
    "local.add_record('demo_files/1987--Ackland-G-J--Ag.xml', '1987--Ackland-G-J--Ag', 'LAMMPS-potential')\n",
    "local.records"
   ]
  },
  {
   "cell_type": "markdown",
   "metadata": {},
   "source": [
    "## Modifying Records\n",
    "\n",
    "Records can be modified with the update_record() method. Note that the corresponding \\_id will change as this deletes the old record and adds a new one in its place.\n",
    "\n",
    "Arguments:\n",
    "\n",
    "- record = existing record to replace. This can be the record's title, \\_id, or a Series representation.\n",
    "\n",
    "- content =  string representation of an xml record, or the path to an xml file with the new content.\n",
    "\n",
    "Keyword argument:\n",
    "\n",
    "- refresh = Boolean indicating if refresh() is called automatically. Default is True."
   ]
  },
  {
   "cell_type": "markdown",
   "metadata": {},
   "source": [
    "#### View existing content"
   ]
  },
  {
   "cell_type": "code",
   "execution_count": 15,
   "metadata": {
    "collapsed": false
   },
   "outputs": [
    {
     "name": "stdout",
     "output_type": "stream",
     "text": [
      "<?xml version=\"1.0\" encoding=\"utf-8\"?>\n",
      "<LAMMPS-potential><potential><key>dc4149ce-3592-4131-8683-ecf654d5a519</key><id>1987--Ackland-G-J--Ag</id></potential><units>metal</units><atom_style>atomic</atom_style><atom><element>Ag</element><mass>107.8682</mass></atom><pair_style><type>eam/fs</type></pair_style><pair_coeff><term><file>Ag.eam.fs</file></term><term><symbols>True</symbols></term></pair_coeff></LAMMPS-potential>\n"
     ]
    }
   ],
   "source": [
    "record = local.get_record('1987--Ackland-G-J--Ag').content\n",
    "print record"
   ]
  },
  {
   "cell_type": "markdown",
   "metadata": {},
   "source": [
    "#### Modify content and update"
   ]
  },
  {
   "cell_type": "code",
   "execution_count": 16,
   "metadata": {
    "collapsed": false
   },
   "outputs": [
    {
     "data": {
      "text/html": [
       "<div>\n",
       "<table border=\"1\" class=\"dataframe\">\n",
       "  <thead>\n",
       "    <tr style=\"text-align: right;\">\n",
       "      <th></th>\n",
       "      <th>_id</th>\n",
       "      <th>content</th>\n",
       "      <th>schema</th>\n",
       "      <th>title</th>\n",
       "    </tr>\n",
       "  </thead>\n",
       "  <tbody>\n",
       "    <tr>\n",
       "      <th>0</th>\n",
       "      <td>57b3506b98a5e11d9815018a</td>\n",
       "      <td>&lt;?xml version=\"1.0\" encoding=\"utf-8\"?&gt;\\n&lt;LAMMP...</td>\n",
       "      <td>57b3502598a5e11d98150188</td>\n",
       "      <td>1985--Foiles-S-M--Ni-Cu</td>\n",
       "    </tr>\n",
       "    <tr>\n",
       "      <th>1</th>\n",
       "      <td>58601f3a98a5e11bc84d7f74</td>\n",
       "      <td>&lt;?xml version=\"1.0\" encoding=\"utf-8\"?&gt;\\n&lt;LAMMP...</td>\n",
       "      <td>57b3502598a5e11d98150188</td>\n",
       "      <td>1987--Ackland-G-J--Ag</td>\n",
       "    </tr>\n",
       "  </tbody>\n",
       "</table>\n",
       "</div>"
      ],
      "text/plain": [
       "                        _id  \\\n",
       "0  57b3506b98a5e11d9815018a   \n",
       "1  58601f3a98a5e11bc84d7f74   \n",
       "\n",
       "                                             content  \\\n",
       "0  <?xml version=\"1.0\" encoding=\"utf-8\"?>\\n<LAMMP...   \n",
       "1  <?xml version=\"1.0\" encoding=\"utf-8\"?>\\n<LAMMP...   \n",
       "\n",
       "                     schema                    title  \n",
       "0  57b3502598a5e11d98150188  1985--Foiles-S-M--Ni-Cu  \n",
       "1  57b3502598a5e11d98150188    1987--Ackland-G-J--Ag  "
      ]
     },
     "execution_count": 16,
     "metadata": {},
     "output_type": "execute_result"
    }
   ],
   "source": [
    "new_record = record.replace('<mass>107.8682</mass>', '<mass>107.9</mass>')\n",
    "local.update_record('1987--Ackland-G-J--Ag', new_record)\n",
    "local.records"
   ]
  },
  {
   "cell_type": "markdown",
   "metadata": {},
   "source": [
    "#### Check that content has changed"
   ]
  },
  {
   "cell_type": "code",
   "execution_count": 17,
   "metadata": {
    "collapsed": false
   },
   "outputs": [
    {
     "name": "stdout",
     "output_type": "stream",
     "text": [
      "<?xml version=\"1.0\" encoding=\"utf-8\"?>\n",
      "<LAMMPS-potential><potential><key>dc4149ce-3592-4131-8683-ecf654d5a519</key><id>1987--Ackland-G-J--Ag</id></potential><units>metal</units><atom_style>atomic</atom_style><atom><element>Ag</element><mass>107.9</mass></atom><pair_style><type>eam/fs</type></pair_style><pair_coeff><term><file>Ag.eam.fs</file></term><term><symbols>True</symbols></term></pair_coeff></LAMMPS-potential>\n"
     ]
    }
   ],
   "source": [
    "record = local.get_record('1987--Ackland-G-J--Ag').content\n",
    "print record"
   ]
  },
  {
   "cell_type": "markdown",
   "metadata": {},
   "source": [
    "## Deleting A Record\n",
    "\n",
    "An unwanted record can be deleted using the delete_record() method.\n",
    "\n",
    "Arguments:\n",
    "\n",
    "- record = existing record to delete. This can be the record's title, \\_id, or a Series representation.\n",
    "\n",
    "Keyword argument:\n",
    "\n",
    "- refresh = Boolean indicating if refresh() is called automatically. Default is True."
   ]
  },
  {
   "cell_type": "markdown",
   "metadata": {},
   "source": [
    "#### Delete the recently added record"
   ]
  },
  {
   "cell_type": "code",
   "execution_count": 18,
   "metadata": {
    "collapsed": false
   },
   "outputs": [
    {
     "data": {
      "text/html": [
       "<div>\n",
       "<table border=\"1\" class=\"dataframe\">\n",
       "  <thead>\n",
       "    <tr style=\"text-align: right;\">\n",
       "      <th></th>\n",
       "      <th>_id</th>\n",
       "      <th>content</th>\n",
       "      <th>schema</th>\n",
       "      <th>title</th>\n",
       "    </tr>\n",
       "  </thead>\n",
       "  <tbody>\n",
       "    <tr>\n",
       "      <th>0</th>\n",
       "      <td>57b3506b98a5e11d9815018a</td>\n",
       "      <td>&lt;?xml version=\"1.0\" encoding=\"utf-8\"?&gt;\\n&lt;LAMMP...</td>\n",
       "      <td>57b3502598a5e11d98150188</td>\n",
       "      <td>1985--Foiles-S-M--Ni-Cu</td>\n",
       "    </tr>\n",
       "  </tbody>\n",
       "</table>\n",
       "</div>"
      ],
      "text/plain": [
       "                        _id  \\\n",
       "0  57b3506b98a5e11d9815018a   \n",
       "\n",
       "                                             content  \\\n",
       "0  <?xml version=\"1.0\" encoding=\"utf-8\"?>\\n<LAMMP...   \n",
       "\n",
       "                     schema                    title  \n",
       "0  57b3502598a5e11d98150188  1985--Foiles-S-M--Ni-Cu  "
      ]
     },
     "execution_count": 18,
     "metadata": {},
     "output_type": "execute_result"
    }
   ],
   "source": [
    "local.delete_record('1987--Ackland-G-J--Ag')\n",
    "local.records"
   ]
  },
  {
   "cell_type": "markdown",
   "metadata": {
    "collapsed": true
   },
   "source": [
    "## Add Other Files (blobs)\n",
    "\n",
    "Non-record files can also be stored on the curator as blobs. These can be added with the add_file() method.\n",
    "\n",
    "Argument:\n",
    "\n",
    "- filename = path to the file to upload.\n",
    "\n",
    "Returns the url that can be used to download the file later."
   ]
  },
  {
   "cell_type": "code",
   "execution_count": 19,
   "metadata": {
    "collapsed": false
   },
   "outputs": [
    {
     "name": "stdout",
     "output_type": "stream",
     "text": [
      "http://127.0.0.1:8000/rest/blob?id=58601f4098a5e11bc84d7f75\n"
     ]
    }
   ],
   "source": [
    "file_url = local.add_file('demo_files/test.txt')\n",
    "print file_url"
   ]
  },
  {
   "cell_type": "markdown",
   "metadata": {
    "collapsed": true
   },
   "source": [
    "## Large Repository Tips\n",
    "\n",
    "When working with large repositories or a large number of records, it would be inefficient to download all records and to refresh everytime records are added or changed. This section details the options that can be done to reduce the local overhead involved for those cases."
   ]
  },
  {
   "cell_type": "markdown",
   "metadata": {},
   "source": [
    "### Initialize without building records\n",
    "\n",
    "Setting records_fetch=False during initialization will build the templates/types but not the records. \n",
    "\n",
    "__NOTE:__ accessing records will cause it to be built if it doesn't exist yet."
   ]
  },
  {
   "cell_type": "markdown",
   "metadata": {},
   "source": [
    "#### Reinitialize iprhub"
   ]
  },
  {
   "cell_type": "code",
   "execution_count": 20,
   "metadata": {
    "collapsed": false
   },
   "outputs": [
    {
     "ename": "ValueError",
     "evalue": "Certification file not found!",
     "output_type": "error",
     "traceback": [
      "\u001b[1;31m---------------------------------------------------------------------------\u001b[0m",
      "\u001b[1;31mValueError\u001b[0m                                Traceback (most recent call last)",
      "\u001b[1;32m<ipython-input-20-5785b2bc157e>\u001b[0m in \u001b[0;36m<module>\u001b[1;34m()\u001b[0m\n\u001b[0;32m      3\u001b[0m                    \u001b[0muser\u001b[0m\u001b[1;33m=\u001b[0m\u001b[1;34m'lmh1'\u001b[0m\u001b[1;33m,\u001b[0m\u001b[1;33m\u001b[0m\u001b[0m\n\u001b[0;32m      4\u001b[0m                    \u001b[0mpswd\u001b[0m\u001b[1;33m=\u001b[0m\u001b[1;34m'C:/users/lmh1/documents/iprhub/iprhub_password.txt'\u001b[0m\u001b[1;33m,\u001b[0m\u001b[1;33m\u001b[0m\u001b[0m\n\u001b[1;32m----> 5\u001b[1;33m                    cert='C:/users/lmh1/documents/iprhub/iprhub-ca.pem')\n\u001b[0m\u001b[0;32m      6\u001b[0m \u001b[0mend\u001b[0m \u001b[1;33m=\u001b[0m \u001b[0mtime\u001b[0m\u001b[1;33m.\u001b[0m\u001b[0mtime\u001b[0m\u001b[1;33m(\u001b[0m\u001b[1;33m)\u001b[0m\u001b[1;33m\u001b[0m\u001b[0m\n\u001b[0;32m      7\u001b[0m \u001b[1;32mprint\u001b[0m \u001b[0mend\u001b[0m\u001b[1;33m-\u001b[0m\u001b[0mstart\u001b[0m\u001b[1;33m,\u001b[0m \u001b[1;34m'seconds'\u001b[0m\u001b[1;33m\u001b[0m\u001b[0m\n",
      "\u001b[1;32mC:\\Users\\lmh1\\Documents\\Python-packages\\MDCS-api-tools\\mdcs\\MDCS.pyc\u001b[0m in \u001b[0;36m__init__\u001b[1;34m(self, host, user, pswd, cert, build_records, records_format, records_id, records_template, records_title)\u001b[0m\n\u001b[0;32m     37\u001b[0m         \u001b[1;31m#Set access information\u001b[0m\u001b[1;33m\u001b[0m\u001b[1;33m\u001b[0m\u001b[0m\n\u001b[0;32m     38\u001b[0m         \u001b[0mself\u001b[0m\u001b[1;33m.\u001b[0m\u001b[0mhost\u001b[0m \u001b[1;33m=\u001b[0m \u001b[0mhost\u001b[0m\u001b[1;33m\u001b[0m\u001b[0m\n\u001b[1;32m---> 39\u001b[1;33m         \u001b[0mself\u001b[0m\u001b[1;33m.\u001b[0m\u001b[0mcert\u001b[0m \u001b[1;33m=\u001b[0m \u001b[0mcert\u001b[0m\u001b[1;33m\u001b[0m\u001b[0m\n\u001b[0m\u001b[0;32m     40\u001b[0m         \u001b[1;32mif\u001b[0m \u001b[0muser\u001b[0m \u001b[1;32mis\u001b[0m \u001b[1;32mnot\u001b[0m \u001b[0mNone\u001b[0m\u001b[1;33m:\u001b[0m\u001b[1;33m\u001b[0m\u001b[0m\n\u001b[0;32m     41\u001b[0m             \u001b[1;32mif\u001b[0m \u001b[0misinstance\u001b[0m\u001b[1;33m(\u001b[0m\u001b[0muser\u001b[0m\u001b[1;33m,\u001b[0m \u001b[1;33m(\u001b[0m\u001b[0mlist\u001b[0m\u001b[1;33m,\u001b[0m \u001b[0mtuple\u001b[0m\u001b[1;33m)\u001b[0m\u001b[1;33m)\u001b[0m\u001b[1;33m:\u001b[0m\u001b[1;33m\u001b[0m\u001b[0m\n",
      "\u001b[1;32mC:\\Users\\lmh1\\Documents\\Python-packages\\MDCS-api-tools\\mdcs\\MDCS.pyc\u001b[0m in \u001b[0;36mcert\u001b[1;34m(self, value)\u001b[0m\n\u001b[0;32m     96\u001b[0m             \u001b[0mself\u001b[0m\u001b[1;33m.\u001b[0m\u001b[0m__cert\u001b[0m \u001b[1;33m=\u001b[0m \u001b[0mos\u001b[0m\u001b[1;33m.\u001b[0m\u001b[0mpath\u001b[0m\u001b[1;33m.\u001b[0m\u001b[0mabspath\u001b[0m\u001b[1;33m(\u001b[0m\u001b[0mvalue\u001b[0m\u001b[1;33m)\u001b[0m\u001b[1;33m\u001b[0m\u001b[0m\n\u001b[0;32m     97\u001b[0m         \u001b[1;32melse\u001b[0m\u001b[1;33m:\u001b[0m\u001b[1;33m\u001b[0m\u001b[0m\n\u001b[1;32m---> 98\u001b[1;33m             \u001b[1;32mraise\u001b[0m \u001b[0mValueError\u001b[0m\u001b[1;33m(\u001b[0m\u001b[1;34m'Certification file not found!'\u001b[0m\u001b[1;33m)\u001b[0m\u001b[1;33m\u001b[0m\u001b[0m\n\u001b[0m\u001b[0;32m     99\u001b[0m \u001b[1;33m\u001b[0m\u001b[0m\n\u001b[0;32m    100\u001b[0m     \u001b[1;32mdef\u001b[0m \u001b[0m__setpswd\u001b[0m\u001b[1;33m(\u001b[0m\u001b[0mself\u001b[0m\u001b[1;33m,\u001b[0m \u001b[0mvalue\u001b[0m\u001b[1;33m=\u001b[0m\u001b[0mNone\u001b[0m\u001b[1;33m)\u001b[0m\u001b[1;33m:\u001b[0m\u001b[1;33m\u001b[0m\u001b[0m\n",
      "\u001b[1;31mValueError\u001b[0m: Certification file not found!"
     ]
    }
   ],
   "source": [
    "start = time.time()\n",
    "iprhub = mdcs.MDCS(host='https://iprhub.nist.gov/', \n",
    "                   user='lmh1',\n",
    "                   pswd='C:/users/lmh1/documents/iprhub/iprhub_password.txt',\n",
    "                   cert='C:/users/lmh1/documents/iprhub/iprhub-ca.pem')\n",
    "end = time.time()\n",
    "print end-start, 'seconds'"
   ]
  },
  {
   "cell_type": "markdown",
   "metadata": {},
   "source": [
    "#### Reinitialize iprhub without loading records"
   ]
  },
  {
   "cell_type": "code",
   "execution_count": null,
   "metadata": {
    "collapsed": false
   },
   "outputs": [],
   "source": [
    "start = time.time()\n",
    "iprhub = mdcs.MDCS(host='https://iprhub.nist.gov/', \n",
    "                   user='lmh1',\n",
    "                   pswd='C:/users/lmh1/documents/iprhub/iprhub_password.txt',\n",
    "                   cert='C:/users/lmh1/documents/iprhub/iprhub-ca.pem',\n",
    "                   build_records=False)\n",
    "end = time.time()\n",
    "print end-start, 'seconds'"
   ]
  },
  {
   "cell_type": "markdown",
   "metadata": {},
   "source": [
    "### Build records with limiters\n",
    "\n",
    "The build_records() method can be used to then build the records DataFrame with only a selection of the curator's records.\n",
    "\n",
    "Keyword arguments:\n",
    "\n",
    "- format = file format to access. Values are xml or json.\n",
    "\n",
    "- id = record id to limit to.\n",
    "\n",
    "- template = template of records to include. Can be title, filename, id or Series representation of a template.\n",
    "\n",
    "- title = record title to limit to.\n",
    "\n",
    "Given the current options, this is really only good for curators with a large number of templates in that you can specifically limit your search to one template."
   ]
  },
  {
   "cell_type": "markdown",
   "metadata": {},
   "source": [
    "#### Retrieve only records for the record-interatomic-potential template"
   ]
  },
  {
   "cell_type": "code",
   "execution_count": null,
   "metadata": {
    "collapsed": false
   },
   "outputs": [],
   "source": [
    "iprhub.build_records(template='record-interatomic-potential')\n",
    "iprhub.records"
   ]
  },
  {
   "cell_type": "markdown",
   "metadata": {},
   "source": [
    "#### Retrieve only records for the record-JARVIS-FF-calc template"
   ]
  },
  {
   "cell_type": "code",
   "execution_count": null,
   "metadata": {
    "collapsed": false
   },
   "outputs": [],
   "source": [
    "iprhub.build_records(template='record-JARVIS-FF-calc')\n",
    "iprhub.records"
   ]
  },
  {
   "cell_type": "markdown",
   "metadata": {},
   "source": [
    "#### The selection information is retained for when refresh() is called"
   ]
  },
  {
   "cell_type": "code",
   "execution_count": null,
   "metadata": {
    "collapsed": false
   },
   "outputs": [],
   "source": [
    "iprhub.refresh()\n",
    "iprhub.records"
   ]
  },
  {
   "cell_type": "markdown",
   "metadata": {},
   "source": [
    "### Supressing refreshes\n",
    "\n",
    "If a large number of files are being added/modified at once, it doesn't make much sense to refresh the local copies for every small change. All the methods that modify the curator have the keyword refresh which can be set to False to avoid needless refreshing.\n",
    "\n",
    "__NOTE:__ Many of the capabilities of this class search over the local representations of the templates/types/records, so refreshing is necessary in some cases. Some examples are:\n",
    "\n",
    "- The get methods will fail if they are searching for items that have been added after the last refresh. \n",
    "\n",
    "- Any method that takes templates/types as inputs won't be able to find them if they were added since the last refresh.\n",
    "\n",
    "- The add_xml_types() and add_templates() may miss duplicate entries if added before a refresh."
   ]
  },
  {
   "cell_type": "markdown",
   "metadata": {},
   "source": [
    "#### Demonstrate adding a record without refreshing"
   ]
  },
  {
   "cell_type": "code",
   "execution_count": null,
   "metadata": {
    "collapsed": false
   },
   "outputs": [],
   "source": [
    "local.records"
   ]
  },
  {
   "cell_type": "code",
   "execution_count": null,
   "metadata": {
    "collapsed": false
   },
   "outputs": [],
   "source": [
    "local.add_record('demo_files/1987--Ackland-G-J--Ag.xml', '1987--Ackland-G-J--Ag', 'LAMMPS-potential', refresh=False)\n",
    "local.records"
   ]
  },
  {
   "cell_type": "markdown",
   "metadata": {},
   "source": [
    "#### Refresh"
   ]
  },
  {
   "cell_type": "code",
   "execution_count": null,
   "metadata": {
    "collapsed": false
   },
   "outputs": [],
   "source": [
    "local.refresh()\n",
    "local.records"
   ]
  },
  {
   "cell_type": "markdown",
   "metadata": {},
   "source": [
    "#### Demonstrate deleting a record without refreshing"
   ]
  },
  {
   "cell_type": "code",
   "execution_count": null,
   "metadata": {
    "collapsed": false
   },
   "outputs": [],
   "source": [
    "local.delete_record('1987--Ackland-G-J--Ag', refresh=False)\n",
    "local.records"
   ]
  },
  {
   "cell_type": "markdown",
   "metadata": {},
   "source": [
    "#### Refresh"
   ]
  },
  {
   "cell_type": "code",
   "execution_count": null,
   "metadata": {
    "collapsed": false
   },
   "outputs": [],
   "source": [
    "local.refresh()\n",
    "local.records"
   ]
  },
  {
   "cell_type": "code",
   "execution_count": null,
   "metadata": {
    "collapsed": true
   },
   "outputs": [],
   "source": []
  }
 ],
 "metadata": {
  "anaconda-cloud": {},
  "kernelspec": {
   "display_name": "Python 2",
   "language": "python",
   "name": "python2"
  },
  "language_info": {
   "codemirror_mode": {
    "name": "ipython",
    "version": 2
   },
   "file_extension": ".py",
   "mimetype": "text/x-python",
   "name": "python",
   "nbconvert_exporter": "python",
   "pygments_lexer": "ipython2",
   "version": "2.7.11"
  }
 },
 "nbformat": 4,
 "nbformat_minor": 0
}
